{
 "cells": [
  {
   "cell_type": "code",
   "execution_count": 1,
   "id": "d6523a51-ebb6-4a07-9d67-d2301dda6a9e",
   "metadata": {},
   "outputs": [],
   "source": [
    "import numpy as np\n",
    "import pandas as pd\n",
    "import statsmodels.api as sm\n",
    "from statsmodels.api import OLS\n",
    "import statsmodels.formula.api as smf\n",
    "import scipy.stats as stats"
   ]
  },
  {
   "cell_type": "code",
   "execution_count": 2,
   "id": "a05b8e13-5ef7-4a23-a68c-15cf38b43005",
   "metadata": {},
   "outputs": [],
   "source": [
    "data = {\n",
    "    'Method': ['A'] * 5 + ['B'] * 5 + ['C'] * 5 + ['D'] * 5,\n",
    "    'Score': [85, 90, 78, 82, 95, 76, 80, 88, 72, 84, 92, 96, 89, 94, 99, 68, 75, 70, 73, 79]\n",
    "}\n",
    "\n",
    "df = pd.DataFrame(data)\n"
   ]
  },
  {
   "cell_type": "markdown",
   "id": "6ef7e249-a814-446b-9840-fb2b11d3ebae",
   "metadata": {},
   "source": [
    "# By Using Statsmodels.api and scipy.stats"
   ]
  },
  {
   "cell_type": "markdown",
   "id": "d8724546-a055-4e94-918b-886bb32080a7",
   "metadata": {},
   "source": [
    "### !. One Factor Annova"
   ]
  },
  {
   "cell_type": "code",
   "execution_count": 3,
   "id": "6b83947a-d3a1-4268-ac8e-88ba9578fc7e",
   "metadata": {},
   "outputs": [],
   "source": [
    "model=smf.ols('Score~C(Method)',data=df).fit()\n",
    "anova_table=sm.stats.anova_lm(model,typ=1)\n",
    "critical_f=stats.f.ppf(1-0.05,anova_table.loc['C(Method)','df'],anova_table.loc['Residual','df'])"
   ]
  },
  {
   "cell_type": "code",
   "execution_count": 4,
   "id": "f8a00f8a-a4d1-4a86-ad29-ba96a9d3efb3",
   "metadata": {},
   "outputs": [
    {
     "data": {
      "text/plain": [
       "np.float64(3.238871517453585)"
      ]
     },
     "execution_count": 4,
     "metadata": {},
     "output_type": "execute_result"
    }
   ],
   "source": [
    "critical_f"
   ]
  },
  {
   "cell_type": "code",
   "execution_count": 5,
   "id": "530c0b8e-93c3-45ce-88f8-3b0b8ff6bc24",
   "metadata": {},
   "outputs": [
    {
     "data": {
      "text/html": [
       "<div>\n",
       "<style scoped>\n",
       "    .dataframe tbody tr th:only-of-type {\n",
       "        vertical-align: middle;\n",
       "    }\n",
       "\n",
       "    .dataframe tbody tr th {\n",
       "        vertical-align: top;\n",
       "    }\n",
       "\n",
       "    .dataframe thead th {\n",
       "        text-align: right;\n",
       "    }\n",
       "</style>\n",
       "<table border=\"1\" class=\"dataframe\">\n",
       "  <thead>\n",
       "    <tr style=\"text-align: right;\">\n",
       "      <th></th>\n",
       "      <th>df</th>\n",
       "      <th>sum_sq</th>\n",
       "      <th>mean_sq</th>\n",
       "      <th>F</th>\n",
       "      <th>PR(&gt;F)</th>\n",
       "    </tr>\n",
       "  </thead>\n",
       "  <tbody>\n",
       "    <tr>\n",
       "      <th>C(Method)</th>\n",
       "      <td>3.0</td>\n",
       "      <td>1193.75</td>\n",
       "      <td>397.916667</td>\n",
       "      <td>13.546099</td>\n",
       "      <td>0.000117</td>\n",
       "    </tr>\n",
       "    <tr>\n",
       "      <th>Residual</th>\n",
       "      <td>16.0</td>\n",
       "      <td>470.00</td>\n",
       "      <td>29.375000</td>\n",
       "      <td>NaN</td>\n",
       "      <td>NaN</td>\n",
       "    </tr>\n",
       "  </tbody>\n",
       "</table>\n",
       "</div>"
      ],
      "text/plain": [
       "             df   sum_sq     mean_sq          F    PR(>F)\n",
       "C(Method)   3.0  1193.75  397.916667  13.546099  0.000117\n",
       "Residual   16.0   470.00   29.375000        NaN       NaN"
      ]
     },
     "execution_count": 5,
     "metadata": {},
     "output_type": "execute_result"
    }
   ],
   "source": [
    "anova_table"
   ]
  },
  {
   "cell_type": "code",
   "execution_count": 6,
   "id": "2afe9d62-f1c7-4687-a6ef-1ca1e97688d1",
   "metadata": {},
   "outputs": [
    {
     "data": {
      "text/plain": [
       "<statsmodels.regression.linear_model.RegressionResultsWrapper at 0x1f8dd2d6e70>"
      ]
     },
     "execution_count": 6,
     "metadata": {},
     "output_type": "execute_result"
    }
   ],
   "source": [
    "model"
   ]
  },
  {
   "cell_type": "code",
   "execution_count": 7,
   "id": "2bcca316-05af-4a39-8442-89752a088dc8",
   "metadata": {},
   "outputs": [],
   "source": [
    "import matplotlib.pyplot as plt"
   ]
  },
  {
   "cell_type": "code",
   "execution_count": 8,
   "id": "4d9c227c-6943-4678-9011-a2c730b5c3c8",
   "metadata": {},
   "outputs": [
    {
     "data": {
      "text/plain": [
       "[<matplotlib.lines.Line2D at 0x1f8e13ba870>,\n",
       " <matplotlib.lines.Line2D at 0x1f8e13badb0>,\n",
       " <matplotlib.lines.Line2D at 0x1f8e13ee0c0>,\n",
       " <matplotlib.lines.Line2D at 0x1f8e13ee330>,\n",
       " <matplotlib.lines.Line2D at 0x1f8e13ee420>]"
      ]
     },
     "execution_count": 8,
     "metadata": {},
     "output_type": "execute_result"
    },
    {
     "data": {
      "image/png": "[encoded data removed]",
      "text/plain": [
       "<Figure size 640x480 with 1 Axes>"
      ]
     },
     "metadata": {},
     "output_type": "display_data"
    }
   ],
   "source": [
    "plt.plot(anova_table)"
   ]
  },
  {
   "cell_type": "markdown",
   "id": "ca65ee4a-d4a4-4448-ae67-a920de52fac7",
   "metadata": {},
   "source": [
    "# Calculating seperate anova table"
   ]
  },
  {
   "cell_type": "code",
   "execution_count": 9,
   "id": "cee13556-c92f-414b-bb4d-b35d1e87ddc1",
   "metadata": {},
   "outputs": [
    {
     "data": {
      "text/html": [
       "<div>\n",
       "<style scoped>\n",
       "    .dataframe tbody tr th:only-of-type {\n",
       "        vertical-align: middle;\n",
       "    }\n",
       "\n",
       "    .dataframe tbody tr th {\n",
       "        vertical-align: top;\n",
       "    }\n",
       "\n",
       "    .dataframe thead th {\n",
       "        text-align: right;\n",
       "    }\n",
       "</style>\n",
       "<table border=\"1\" class=\"dataframe\">\n",
       "  <thead>\n",
       "    <tr style=\"text-align: right;\">\n",
       "      <th></th>\n",
       "      <th>Method</th>\n",
       "      <th>Score</th>\n",
       "    </tr>\n",
       "  </thead>\n",
       "  <tbody>\n",
       "    <tr>\n",
       "      <th>0</th>\n",
       "      <td>A</td>\n",
       "      <td>85</td>\n",
       "    </tr>\n",
       "    <tr>\n",
       "      <th>1</th>\n",
       "      <td>A</td>\n",
       "      <td>90</td>\n",
       "    </tr>\n",
       "    <tr>\n",
       "      <th>2</th>\n",
       "      <td>A</td>\n",
       "      <td>78</td>\n",
       "    </tr>\n",
       "    <tr>\n",
       "      <th>3</th>\n",
       "      <td>A</td>\n",
       "      <td>82</td>\n",
       "    </tr>\n",
       "    <tr>\n",
       "      <th>4</th>\n",
       "      <td>A</td>\n",
       "      <td>95</td>\n",
       "    </tr>\n",
       "    <tr>\n",
       "      <th>5</th>\n",
       "      <td>B</td>\n",
       "      <td>76</td>\n",
       "    </tr>\n",
       "    <tr>\n",
       "      <th>6</th>\n",
       "      <td>B</td>\n",
       "      <td>80</td>\n",
       "    </tr>\n",
       "    <tr>\n",
       "      <th>7</th>\n",
       "      <td>B</td>\n",
       "      <td>88</td>\n",
       "    </tr>\n",
       "    <tr>\n",
       "      <th>8</th>\n",
       "      <td>B</td>\n",
       "      <td>72</td>\n",
       "    </tr>\n",
       "    <tr>\n",
       "      <th>9</th>\n",
       "      <td>B</td>\n",
       "      <td>84</td>\n",
       "    </tr>\n",
       "    <tr>\n",
       "      <th>10</th>\n",
       "      <td>C</td>\n",
       "      <td>92</td>\n",
       "    </tr>\n",
       "    <tr>\n",
       "      <th>11</th>\n",
       "      <td>C</td>\n",
       "      <td>96</td>\n",
       "    </tr>\n",
       "    <tr>\n",
       "      <th>12</th>\n",
       "      <td>C</td>\n",
       "      <td>89</td>\n",
       "    </tr>\n",
       "    <tr>\n",
       "      <th>13</th>\n",
       "      <td>C</td>\n",
       "      <td>94</td>\n",
       "    </tr>\n",
       "    <tr>\n",
       "      <th>14</th>\n",
       "      <td>C</td>\n",
       "      <td>99</td>\n",
       "    </tr>\n",
       "    <tr>\n",
       "      <th>15</th>\n",
       "      <td>D</td>\n",
       "      <td>68</td>\n",
       "    </tr>\n",
       "    <tr>\n",
       "      <th>16</th>\n",
       "      <td>D</td>\n",
       "      <td>75</td>\n",
       "    </tr>\n",
       "    <tr>\n",
       "      <th>17</th>\n",
       "      <td>D</td>\n",
       "      <td>70</td>\n",
       "    </tr>\n",
       "    <tr>\n",
       "      <th>18</th>\n",
       "      <td>D</td>\n",
       "      <td>73</td>\n",
       "    </tr>\n",
       "    <tr>\n",
       "      <th>19</th>\n",
       "      <td>D</td>\n",
       "      <td>79</td>\n",
       "    </tr>\n",
       "  </tbody>\n",
       "</table>\n",
       "</div>"
      ],
      "text/plain": [
       "   Method  Score\n",
       "0       A     85\n",
       "1       A     90\n",
       "2       A     78\n",
       "3       A     82\n",
       "4       A     95\n",
       "5       B     76\n",
       "6       B     80\n",
       "7       B     88\n",
       "8       B     72\n",
       "9       B     84\n",
       "10      C     92\n",
       "11      C     96\n",
       "12      C     89\n",
       "13      C     94\n",
       "14      C     99\n",
       "15      D     68\n",
       "16      D     75\n",
       "17      D     70\n",
       "18      D     73\n",
       "19      D     79"
      ]
     },
     "execution_count": 9,
     "metadata": {},
     "output_type": "execute_result"
    }
   ],
   "source": [
    "df"
   ]
  },
  {
   "cell_type": "code",
   "execution_count": 10,
   "id": "6dae61ab-5721-437c-b4ac-0de375c4d5ab",
   "metadata": {},
   "outputs": [],
   "source": [
    "a=df.groupby(['Method'])['Score'].count().count()"
   ]
  },
  {
   "cell_type": "code",
   "execution_count": 11,
   "id": "833b9bb3-80e0-440f-a573-e9e347c17c45",
   "metadata": {},
   "outputs": [],
   "source": [
    "N=df.shape[0]"
   ]
  },
  {
   "cell_type": "code",
   "execution_count": 12,
   "id": "0752b6f1-2b9d-4263-912c-7b41b5b8eac8",
   "metadata": {},
   "outputs": [
    {
     "name": "stderr",
     "output_type": "stream",
     "text": [
      "C:\\Users\\Rahul\\AppData\\Local\\Temp\\ipykernel_12064\\2474140058.py:1: FutureWarning: Series.__getitem__ treating keys as positions is deprecated. In a future version, integer keys will always be treated as labels (consistent with DataFrame behavior). To access a value by position, use `ser.iloc[pos]`\n",
      "  n=df.groupby(['Method'])['Score'].count()[0]\n"
     ]
    }
   ],
   "source": [
    "n=df.groupby(['Method'])['Score'].count()[0]"
   ]
  },
  {
   "cell_type": "code",
   "execution_count": 13,
   "id": "acac78eb-a9e4-4850-a09b-b183a7d2536a",
   "metadata": {},
   "outputs": [],
   "source": [
    "df_between=a-1\n",
    "df_within=N-a"
   ]
  },
  {
   "cell_type": "code",
   "execution_count": 14,
   "id": "a058dfe3-cbce-4bc8-8fec-c0ad364b4c18",
   "metadata": {},
   "outputs": [],
   "source": [
    "f_critical=stats.f.ppf(1-0.05,df_between,df_within)"
   ]
  },
  {
   "cell_type": "code",
   "execution_count": 15,
   "id": "111237a7-1601-481f-8958-509c1a91f962",
   "metadata": {},
   "outputs": [
    {
     "data": {
      "text/plain": [
       "np.float64(3.238871517453585)"
      ]
     },
     "execution_count": 15,
     "metadata": {},
     "output_type": "execute_result"
    }
   ],
   "source": [
    "f_critical"
   ]
  },
  {
   "cell_type": "code",
   "execution_count": 16,
   "id": "5720c04b-f799-4656-ab9e-9da2de255280",
   "metadata": {},
   "outputs": [
    {
     "name": "stdout",
     "output_type": "stream",
     "text": [
      "Yes\n"
     ]
    }
   ],
   "source": [
    "if(df_between+df_within==N-1):\n",
    "    print(\"Yes\")"
   ]
  },
  {
   "cell_type": "markdown",
   "id": "475e1be0-ae41-4814-9751-e15da5c1e14a",
   "metadata": {},
   "source": [
    "### 2. Two Factor Annova\n"
   ]
  },
  {
   "cell_type": "code",
   "execution_count": 17,
   "id": "c00ba9cc-7f36-4907-bb64-e5a215cc2a29",
   "metadata": {},
   "outputs": [],
   "source": [
    "data = {\n",
    "    'fertilizer': ['A', 'A', 'A', 'B', 'B', 'B', 'C', 'C', 'C', 'A', 'A', 'A', 'B', 'B', 'B', 'C', 'C', 'C'],\n",
    "    'sunlight': ['high', 'medium', 'low', 'high', 'medium', 'low', 'high', 'medium', 'low', 'high', 'medium', 'low', 'high', 'medium', 'low', 'high', 'medium', 'low'],\n",
    "    'height': [15, 12, 10, 18, 16, 14, 11, 9, 8, 16, 13, 11, 19, 17, 15, 12, 10, 9]\n",
    "}\n",
    "\n",
    "df = pd.DataFrame(data)\n"
   ]
  },
  {
   "cell_type": "code",
   "execution_count": 18,
   "id": "2d6bfa89-98a4-44af-9b09-54eef02314b5",
   "metadata": {},
   "outputs": [],
   "source": [
    "model=smf.ols('height~C(fertilizer)+C(sunlight)+C(fertilizer):C(sunlight)',data=df).fit()"
   ]
  },
  {
   "cell_type": "code",
   "execution_count": 19,
   "id": "c9399c26-8c0b-453b-93dd-86aad021994a",
   "metadata": {},
   "outputs": [
    {
     "data": {
      "text/plain": [
       "<statsmodels.regression.linear_model.RegressionResultsWrapper at 0x1f8dcc38c20>"
      ]
     },
     "execution_count": 19,
     "metadata": {},
     "output_type": "execute_result"
    }
   ],
   "source": [
    "model"
   ]
  },
  {
   "cell_type": "code",
   "execution_count": 20,
   "id": "f534319e-12b6-49f1-be9a-d196977cd3c5",
   "metadata": {},
   "outputs": [
    {
     "data": {
      "text/html": [
       "<div>\n",
       "<style scoped>\n",
       "    .dataframe tbody tr th:only-of-type {\n",
       "        vertical-align: middle;\n",
       "    }\n",
       "\n",
       "    .dataframe tbody tr th {\n",
       "        vertical-align: top;\n",
       "    }\n",
       "\n",
       "    .dataframe thead th {\n",
       "        text-align: right;\n",
       "    }\n",
       "</style>\n",
       "<table border=\"1\" class=\"dataframe\">\n",
       "  <thead>\n",
       "    <tr style=\"text-align: right;\">\n",
       "      <th></th>\n",
       "      <th>sum_sq</th>\n",
       "      <th>df</th>\n",
       "      <th>F</th>\n",
       "      <th>PR(&gt;F)</th>\n",
       "    </tr>\n",
       "  </thead>\n",
       "  <tbody>\n",
       "    <tr>\n",
       "      <th>C(fertilizer)</th>\n",
       "      <td>133.777778</td>\n",
       "      <td>2.0</td>\n",
       "      <td>133.777778</td>\n",
       "      <td>2.023348e-07</td>\n",
       "    </tr>\n",
       "    <tr>\n",
       "      <th>C(sunlight)</th>\n",
       "      <td>48.444444</td>\n",
       "      <td>2.0</td>\n",
       "      <td>48.444444</td>\n",
       "      <td>1.521474e-05</td>\n",
       "    </tr>\n",
       "    <tr>\n",
       "      <th>C(fertilizer):C(sunlight)</th>\n",
       "      <td>2.222222</td>\n",
       "      <td>4.0</td>\n",
       "      <td>1.111111</td>\n",
       "      <td>4.087234e-01</td>\n",
       "    </tr>\n",
       "    <tr>\n",
       "      <th>Residual</th>\n",
       "      <td>4.500000</td>\n",
       "      <td>9.0</td>\n",
       "      <td>NaN</td>\n",
       "      <td>NaN</td>\n",
       "    </tr>\n",
       "  </tbody>\n",
       "</table>\n",
       "</div>"
      ],
      "text/plain": [
       "                               sum_sq   df           F        PR(>F)\n",
       "C(fertilizer)              133.777778  2.0  133.777778  2.023348e-07\n",
       "C(sunlight)                 48.444444  2.0   48.444444  1.521474e-05\n",
       "C(fertilizer):C(sunlight)    2.222222  4.0    1.111111  4.087234e-01\n",
       "Residual                     4.500000  9.0         NaN           NaN"
      ]
     },
     "execution_count": 20,
     "metadata": {},
     "output_type": "execute_result"
    }
   ],
   "source": [
    "anova_table=sm.stats.anova_lm(model,typ=2)\n",
    "anova_table"
   ]
  },
  {
   "cell_type": "code",
   "execution_count": 21,
   "id": "3e5836d1-766f-4125-af3f-9720e1402de0",
   "metadata": {},
   "outputs": [
    {
     "name": "stdout",
     "output_type": "stream",
     "text": [
      "2.0\n",
      "2.0\n",
      "4.0\n",
      "9.0\n"
     ]
    }
   ],
   "source": [
    "for effect in anova_table.index:\n",
    "    df_num = anova_table.loc[effect, 'df']\n",
    "    print(df_num)# Numerator degrees of freedom\n",
    "    df_den = anova_table.loc['Residual', 'df']"
   ]
  },
  {
   "cell_type": "code",
   "execution_count": 22,
   "id": "9fc1ba1e-2713-46b4-962c-87340e7f2c80",
   "metadata": {},
   "outputs": [
    {
     "data": {
      "text/plain": [
       "np.float64(9.0)"
      ]
     },
     "execution_count": 22,
     "metadata": {},
     "output_type": "execute_result"
    }
   ],
   "source": [
    "df_num"
   ]
  },
  {
   "cell_type": "code",
   "execution_count": 23,
   "id": "730a3976-cf12-419c-b62f-60f99e214012",
   "metadata": {},
   "outputs": [
    {
     "data": {
      "text/plain": [
       "np.float64(9.0)"
      ]
     },
     "execution_count": 23,
     "metadata": {},
     "output_type": "execute_result"
    }
   ],
   "source": [
    "df_den"
   ]
  },
  {
   "cell_type": "code",
   "execution_count": 27,
   "id": "18ad38f8-d918-4e34-aebb-5633f7515e5b",
   "metadata": {},
   "outputs": [
    {
     "name": "stdout",
     "output_type": "stream",
     "text": [
      "C(fertilizer) as no effect on Height\n",
      "C(sunlight) as no effect on Height\n",
      "C(fertilizer):C(sunlight) as effect on Height\n",
      "Residual as effect on Height\n"
     ]
    }
   ],
   "source": [
    "for effect in anova_table.index:\n",
    "    df_num = anova_table.loc[effect, 'df']  # Numerator degrees of freedom\n",
    "    df_den = anova_table.loc['Residual', 'df']\n",
    "    critical_f=stats.f.ppf(1-0.05,anova_table.loc[effect,'df'],anova_table.loc['Residual','df'])\n",
    "    if(anova_table.loc[effect,'F']>critical_f):\n",
    "            print(f'{effect} as no effect on Height')\n",
    "    else:\n",
    "            print(f'{effect} as effect on Height')\n",
    "        "
   ]
  },
  {
   "cell_type": "markdown",
   "id": "fd0e8298-f4c6-4412-ab53-3802a06d0859",
   "metadata": {},
   "source": [
    "### 3.Factorial Anova"
   ]
  },
  {
   "cell_type": "code",
   "execution_count": 28,
   "id": "b5362d7e-f626-4e18-ad71-4ed854fa79a5",
   "metadata": {},
   "outputs": [],
   "source": [
    "data = {\n",
    "    'fertilizer': ['A', 'A', 'A', 'B', 'B', 'B', 'C', 'C', 'C', 'A', 'A', 'A', 'B', 'B', 'B', 'C', 'C', 'C'],\n",
    "    'sunlight': ['high', 'medium', 'low', 'high', 'medium', 'low', 'high', 'medium', 'low', 'high', 'medium', 'low', 'high', 'medium', 'low', 'high', 'medium', 'low'],\n",
    "    'humidity': ['high', 'high', 'high', 'high', 'high', 'high', 'high', 'high', 'high', 'low', 'low', 'low', 'low', 'low', 'low', 'low', 'low', 'low'],\n",
    "    'height': [15, 12, 10, 18, 16, 14, 11, 9, 8, 16, 13, 11, 19, 17, 15, 12, 10, 9]\n",
    "}\n",
    "\n",
    "df = pd.DataFrame(data)"
   ]
  },
  {
   "cell_type": "code",
   "execution_count": 43,
   "id": "7b022722-8b4d-4942-a62b-d9041c5db997",
   "metadata": {},
   "outputs": [],
   "source": [
    "model=smf.ols('height~C(fertilizer)+C(sunlight)+C(humidity)',data=df).fit()\n"
   ]
  },
  {
   "cell_type": "markdown",
   "id": "63ed7246-7322-47e4-bec2-3964722d7de4",
   "metadata": {},
   "source": [
    "here we are not going with the two vway interaction and three wway interaction because it will make the residula df=0 and which is not possible"
   ]
  },
  {
   "cell_type": "code",
   "execution_count": 33,
   "id": "f12e9301-1b40-4f42-a250-54ec0de0c060",
   "metadata": {
    "collapsed": true,
    "jupyter": {
     "outputs_hidden": true
    }
   },
   "outputs": [
    {
     "data": {
      "text/html": [
       "<div>\n",
       "<style scoped>\n",
       "    .dataframe tbody tr th:only-of-type {\n",
       "        vertical-align: middle;\n",
       "    }\n",
       "\n",
       "    .dataframe tbody tr th {\n",
       "        vertical-align: top;\n",
       "    }\n",
       "\n",
       "    .dataframe thead th {\n",
       "        text-align: right;\n",
       "    }\n",
       "</style>\n",
       "<table border=\"1\" class=\"dataframe\">\n",
       "  <thead>\n",
       "    <tr style=\"text-align: right;\">\n",
       "      <th></th>\n",
       "      <th>fertilizer</th>\n",
       "      <th>sunlight</th>\n",
       "      <th>humidity</th>\n",
       "      <th>height</th>\n",
       "    </tr>\n",
       "  </thead>\n",
       "  <tbody>\n",
       "    <tr>\n",
       "      <th>0</th>\n",
       "      <td>A</td>\n",
       "      <td>high</td>\n",
       "      <td>high</td>\n",
       "      <td>15</td>\n",
       "    </tr>\n",
       "    <tr>\n",
       "      <th>1</th>\n",
       "      <td>A</td>\n",
       "      <td>medium</td>\n",
       "      <td>high</td>\n",
       "      <td>12</td>\n",
       "    </tr>\n",
       "    <tr>\n",
       "      <th>2</th>\n",
       "      <td>A</td>\n",
       "      <td>low</td>\n",
       "      <td>high</td>\n",
       "      <td>10</td>\n",
       "    </tr>\n",
       "    <tr>\n",
       "      <th>3</th>\n",
       "      <td>B</td>\n",
       "      <td>high</td>\n",
       "      <td>high</td>\n",
       "      <td>18</td>\n",
       "    </tr>\n",
       "    <tr>\n",
       "      <th>4</th>\n",
       "      <td>B</td>\n",
       "      <td>medium</td>\n",
       "      <td>high</td>\n",
       "      <td>16</td>\n",
       "    </tr>\n",
       "    <tr>\n",
       "      <th>5</th>\n",
       "      <td>B</td>\n",
       "      <td>low</td>\n",
       "      <td>high</td>\n",
       "      <td>14</td>\n",
       "    </tr>\n",
       "    <tr>\n",
       "      <th>6</th>\n",
       "      <td>C</td>\n",
       "      <td>high</td>\n",
       "      <td>high</td>\n",
       "      <td>11</td>\n",
       "    </tr>\n",
       "    <tr>\n",
       "      <th>7</th>\n",
       "      <td>C</td>\n",
       "      <td>medium</td>\n",
       "      <td>high</td>\n",
       "      <td>9</td>\n",
       "    </tr>\n",
       "    <tr>\n",
       "      <th>8</th>\n",
       "      <td>C</td>\n",
       "      <td>low</td>\n",
       "      <td>high</td>\n",
       "      <td>8</td>\n",
       "    </tr>\n",
       "    <tr>\n",
       "      <th>9</th>\n",
       "      <td>A</td>\n",
       "      <td>high</td>\n",
       "      <td>low</td>\n",
       "      <td>16</td>\n",
       "    </tr>\n",
       "    <tr>\n",
       "      <th>10</th>\n",
       "      <td>A</td>\n",
       "      <td>medium</td>\n",
       "      <td>low</td>\n",
       "      <td>13</td>\n",
       "    </tr>\n",
       "    <tr>\n",
       "      <th>11</th>\n",
       "      <td>A</td>\n",
       "      <td>low</td>\n",
       "      <td>low</td>\n",
       "      <td>11</td>\n",
       "    </tr>\n",
       "    <tr>\n",
       "      <th>12</th>\n",
       "      <td>B</td>\n",
       "      <td>high</td>\n",
       "      <td>low</td>\n",
       "      <td>19</td>\n",
       "    </tr>\n",
       "    <tr>\n",
       "      <th>13</th>\n",
       "      <td>B</td>\n",
       "      <td>medium</td>\n",
       "      <td>low</td>\n",
       "      <td>17</td>\n",
       "    </tr>\n",
       "    <tr>\n",
       "      <th>14</th>\n",
       "      <td>B</td>\n",
       "      <td>low</td>\n",
       "      <td>low</td>\n",
       "      <td>15</td>\n",
       "    </tr>\n",
       "    <tr>\n",
       "      <th>15</th>\n",
       "      <td>C</td>\n",
       "      <td>high</td>\n",
       "      <td>low</td>\n",
       "      <td>12</td>\n",
       "    </tr>\n",
       "    <tr>\n",
       "      <th>16</th>\n",
       "      <td>C</td>\n",
       "      <td>medium</td>\n",
       "      <td>low</td>\n",
       "      <td>10</td>\n",
       "    </tr>\n",
       "    <tr>\n",
       "      <th>17</th>\n",
       "      <td>C</td>\n",
       "      <td>low</td>\n",
       "      <td>low</td>\n",
       "      <td>9</td>\n",
       "    </tr>\n",
       "  </tbody>\n",
       "</table>\n",
       "</div>"
      ],
      "text/plain": [
       "   fertilizer sunlight humidity  height\n",
       "0           A     high     high      15\n",
       "1           A   medium     high      12\n",
       "2           A      low     high      10\n",
       "3           B     high     high      18\n",
       "4           B   medium     high      16\n",
       "5           B      low     high      14\n",
       "6           C     high     high      11\n",
       "7           C   medium     high       9\n",
       "8           C      low     high       8\n",
       "9           A     high      low      16\n",
       "10          A   medium      low      13\n",
       "11          A      low      low      11\n",
       "12          B     high      low      19\n",
       "13          B   medium      low      17\n",
       "14          B      low      low      15\n",
       "15          C     high      low      12\n",
       "16          C   medium      low      10\n",
       "17          C      low      low       9"
      ]
     },
     "execution_count": 33,
     "metadata": {},
     "output_type": "execute_result"
    }
   ],
   "source": [
    "df"
   ]
  },
  {
   "cell_type": "code",
   "execution_count": 38,
   "id": "5ca65b89-10ed-4a14-8178-3b5e5520adc1",
   "metadata": {},
   "outputs": [
    {
     "data": {
      "text/plain": [
       "fertilizer    0\n",
       "sunlight      0\n",
       "humidity      0\n",
       "height        0\n",
       "dtype: int64"
      ]
     },
     "execution_count": 38,
     "metadata": {},
     "output_type": "execute_result"
    }
   ],
   "source": [
    "df.fillna(0)\n",
    "df.isna().sum()"
   ]
  },
  {
   "cell_type": "code",
   "execution_count": 44,
   "id": "e603a0cf-08d0-449c-86fc-0cc8c6e806d6",
   "metadata": {},
   "outputs": [
    {
     "data": {
      "text/html": [
       "<div>\n",
       "<style scoped>\n",
       "    .dataframe tbody tr th:only-of-type {\n",
       "        vertical-align: middle;\n",
       "    }\n",
       "\n",
       "    .dataframe tbody tr th {\n",
       "        vertical-align: top;\n",
       "    }\n",
       "\n",
       "    .dataframe thead th {\n",
       "        text-align: right;\n",
       "    }\n",
       "</style>\n",
       "<table border=\"1\" class=\"dataframe\">\n",
       "  <thead>\n",
       "    <tr style=\"text-align: right;\">\n",
       "      <th></th>\n",
       "      <th>sum_sq</th>\n",
       "      <th>df</th>\n",
       "      <th>F</th>\n",
       "      <th>PR(&gt;F)</th>\n",
       "    </tr>\n",
       "  </thead>\n",
       "  <tbody>\n",
       "    <tr>\n",
       "      <th>C(fertilizer)</th>\n",
       "      <td>133.777778</td>\n",
       "      <td>2.0</td>\n",
       "      <td>361.2</td>\n",
       "      <td>1.903231e-11</td>\n",
       "    </tr>\n",
       "    <tr>\n",
       "      <th>C(sunlight)</th>\n",
       "      <td>48.444444</td>\n",
       "      <td>2.0</td>\n",
       "      <td>130.8</td>\n",
       "      <td>7.118540e-09</td>\n",
       "    </tr>\n",
       "    <tr>\n",
       "      <th>C(humidity)</th>\n",
       "      <td>4.500000</td>\n",
       "      <td>1.0</td>\n",
       "      <td>24.3</td>\n",
       "      <td>3.481849e-04</td>\n",
       "    </tr>\n",
       "    <tr>\n",
       "      <th>Residual</th>\n",
       "      <td>2.222222</td>\n",
       "      <td>12.0</td>\n",
       "      <td>NaN</td>\n",
       "      <td>NaN</td>\n",
       "    </tr>\n",
       "  </tbody>\n",
       "</table>\n",
       "</div>"
      ],
      "text/plain": [
       "                   sum_sq    df      F        PR(>F)\n",
       "C(fertilizer)  133.777778   2.0  361.2  1.903231e-11\n",
       "C(sunlight)     48.444444   2.0  130.8  7.118540e-09\n",
       "C(humidity)      4.500000   1.0   24.3  3.481849e-04\n",
       "Residual         2.222222  12.0    NaN           NaN"
      ]
     },
     "execution_count": 44,
     "metadata": {},
     "output_type": "execute_result"
    }
   ],
   "source": [
    "anova_table=sm.stats.anova_lm(model,typ=2)\n",
    "anova_table"
   ]
  },
  {
   "cell_type": "markdown",
   "id": "c1fe7e64-755b-419c-ad24-930c4f5e0665",
   "metadata": {},
   "source": [
    "model = smf.ols('height ~ C(fertilizer) + C(sunlight) + C(humidity) + C(fertilizer):C(sunlight) + C(fertilizer):C(humidity) + C(sunlight):C(humidity) + C(fertilizer):C(sunlight):C(humidity)', data=df).fit()\n",
    "anova_table = sm.stats.anova_lm(model, typ=2)"
   ]
  },
  {
   "cell_type": "code",
   "execution_count": 45,
   "id": "bcadcc57-bea3-4183-a17d-c42e263fce34",
   "metadata": {},
   "outputs": [
    {
     "name": "stderr",
     "output_type": "stream",
     "text": [
      "C:\\Users\\Rahul\\AppData\\Local\\Programs\\Python\\Python312\\Lib\\site-packages\\statsmodels\\regression\\linear_model.py:1717: RuntimeWarning: divide by zero encountered in scalar divide\n",
      "  return np.dot(wresid, wresid) / self.df_resid\n"
     ]
    },
    {
     "ename": "ValueError",
     "evalue": "array must not contain infs or NaNs",
     "output_type": "error",
     "traceback": [
      "\u001b[1;31m---------------------------------------------------------------------------\u001b[0m",
      "\u001b[1;31mValueError\u001b[0m                                Traceback (most recent call last)",
      "Cell \u001b[1;32mIn[45], line 17\u001b[0m\n\u001b[0;32m     15\u001b[0m \u001b[38;5;66;03m# Factorial ANOVA model\u001b[39;00m\n\u001b[0;32m     16\u001b[0m model \u001b[38;5;241m=\u001b[39m ols(\u001b[38;5;124m'\u001b[39m\u001b[38;5;124mcake_height ~ C(temperature) + C(mixing_time) + C(sugar) + C(temperature):C(mixing_time) + C(temperature):C(sugar) + C(mixing_time):C(sugar) + C(temperature):C(mixing_time):C(sugar)\u001b[39m\u001b[38;5;124m'\u001b[39m, data\u001b[38;5;241m=\u001b[39mdf)\u001b[38;5;241m.\u001b[39mfit()\n\u001b[1;32m---> 17\u001b[0m anova_table \u001b[38;5;241m=\u001b[39m \u001b[43msm\u001b[49m\u001b[38;5;241;43m.\u001b[39;49m\u001b[43mstats\u001b[49m\u001b[38;5;241;43m.\u001b[39;49m\u001b[43manova_lm\u001b[49m\u001b[43m(\u001b[49m\u001b[43mmodel\u001b[49m\u001b[43m,\u001b[49m\u001b[43m \u001b[49m\u001b[43mtyp\u001b[49m\u001b[38;5;241;43m=\u001b[39;49m\u001b[38;5;241;43m2\u001b[39;49m\u001b[43m)\u001b[49m\n\u001b[0;32m     19\u001b[0m \u001b[38;5;28mprint\u001b[39m(anova_table)\n",
      "File \u001b[1;32m~\\AppData\\Local\\Programs\\Python\\Python312\\Lib\\site-packages\\statsmodels\\stats\\anova.py:353\u001b[0m, in \u001b[0;36manova_lm\u001b[1;34m(*args, **kwargs)\u001b[0m\n\u001b[0;32m    351\u001b[0m \u001b[38;5;28;01mif\u001b[39;00m \u001b[38;5;28mlen\u001b[39m(args) \u001b[38;5;241m==\u001b[39m \u001b[38;5;241m1\u001b[39m:\n\u001b[0;32m    352\u001b[0m     model \u001b[38;5;241m=\u001b[39m args[\u001b[38;5;241m0\u001b[39m]\n\u001b[1;32m--> 353\u001b[0m     \u001b[38;5;28;01mreturn\u001b[39;00m \u001b[43manova_single\u001b[49m\u001b[43m(\u001b[49m\u001b[43mmodel\u001b[49m\u001b[43m,\u001b[49m\u001b[43m \u001b[49m\u001b[38;5;241;43m*\u001b[39;49m\u001b[38;5;241;43m*\u001b[39;49m\u001b[43mkwargs\u001b[49m\u001b[43m)\u001b[49m\n\u001b[0;32m    355\u001b[0m \u001b[38;5;28;01mif\u001b[39;00m typ \u001b[38;5;129;01mnot\u001b[39;00m \u001b[38;5;129;01min\u001b[39;00m [\u001b[38;5;241m1\u001b[39m, \u001b[38;5;124m\"\u001b[39m\u001b[38;5;124mI\u001b[39m\u001b[38;5;124m\"\u001b[39m]:\n\u001b[0;32m    356\u001b[0m     \u001b[38;5;28;01mraise\u001b[39;00m \u001b[38;5;167;01mValueError\u001b[39;00m(\u001b[38;5;124m\"\u001b[39m\u001b[38;5;124mMultiple models only supported for type I. \u001b[39m\u001b[38;5;124m\"\u001b[39m\n\u001b[0;32m    357\u001b[0m                      \u001b[38;5;124m\"\u001b[39m\u001b[38;5;124mGot type \u001b[39m\u001b[38;5;132;01m%s\u001b[39;00m\u001b[38;5;124m\"\u001b[39m \u001b[38;5;241m%\u001b[39m \u001b[38;5;28mstr\u001b[39m(typ))\n",
      "File \u001b[1;32m~\\AppData\\Local\\Programs\\Python\\Python312\\Lib\\site-packages\\statsmodels\\stats\\anova.py:84\u001b[0m, in \u001b[0;36manova_single\u001b[1;34m(model, **kwargs)\u001b[0m\n\u001b[0;32m     81\u001b[0m     \u001b[38;5;28;01mreturn\u001b[39;00m anova1_lm_single(model, endog, exog, nobs, design_info, table,\n\u001b[0;32m     82\u001b[0m                             n_rows, test, pr_test, robust)\n\u001b[0;32m     83\u001b[0m \u001b[38;5;28;01melif\u001b[39;00m typ \u001b[38;5;129;01min\u001b[39;00m [\u001b[38;5;241m2\u001b[39m, \u001b[38;5;124m\"\u001b[39m\u001b[38;5;124mII\u001b[39m\u001b[38;5;124m\"\u001b[39m]:\n\u001b[1;32m---> 84\u001b[0m     \u001b[38;5;28;01mreturn\u001b[39;00m \u001b[43manova2_lm_single\u001b[49m\u001b[43m(\u001b[49m\u001b[43mmodel\u001b[49m\u001b[43m,\u001b[49m\u001b[43m \u001b[49m\u001b[43mdesign_info\u001b[49m\u001b[43m,\u001b[49m\u001b[43m \u001b[49m\u001b[43mn_rows\u001b[49m\u001b[43m,\u001b[49m\u001b[43m \u001b[49m\u001b[43mtest\u001b[49m\u001b[43m,\u001b[49m\u001b[43m \u001b[49m\u001b[43mpr_test\u001b[49m\u001b[43m,\u001b[49m\n\u001b[0;32m     85\u001b[0m \u001b[43m                            \u001b[49m\u001b[43mrobust\u001b[49m\u001b[43m)\u001b[49m\n\u001b[0;32m     86\u001b[0m \u001b[38;5;28;01melif\u001b[39;00m typ \u001b[38;5;129;01min\u001b[39;00m [\u001b[38;5;241m3\u001b[39m, \u001b[38;5;124m\"\u001b[39m\u001b[38;5;124mIII\u001b[39m\u001b[38;5;124m\"\u001b[39m]:\n\u001b[0;32m     87\u001b[0m     \u001b[38;5;28;01mreturn\u001b[39;00m anova3_lm_single(model, design_info, n_rows, test, pr_test,\n\u001b[0;32m     88\u001b[0m                             robust)\n",
      "File \u001b[1;32m~\\AppData\\Local\\Programs\\Python\\Python312\\Lib\\site-packages\\statsmodels\\stats\\anova.py:207\u001b[0m, in \u001b[0;36manova2_lm_single\u001b[1;34m(model, design_info, n_rows, test, pr_test, robust)\u001b[0m\n\u001b[0;32m    205\u001b[0m LVL \u001b[38;5;241m=\u001b[39m np\u001b[38;5;241m.\u001b[39mdot(np\u001b[38;5;241m.\u001b[39mdot(L1,robust_cov),L2\u001b[38;5;241m.\u001b[39mT)\n\u001b[0;32m    206\u001b[0m \u001b[38;5;28;01mfrom\u001b[39;00m \u001b[38;5;21;01mscipy\u001b[39;00m \u001b[38;5;28;01mimport\u001b[39;00m linalg\n\u001b[1;32m--> 207\u001b[0m orth_compl,_ \u001b[38;5;241m=\u001b[39m \u001b[43mlinalg\u001b[49m\u001b[38;5;241;43m.\u001b[39;49m\u001b[43mqr\u001b[49m\u001b[43m(\u001b[49m\u001b[43mLVL\u001b[49m\u001b[43m)\u001b[49m\n\u001b[0;32m    208\u001b[0m r \u001b[38;5;241m=\u001b[39m L1\u001b[38;5;241m.\u001b[39mshape[\u001b[38;5;241m0\u001b[39m] \u001b[38;5;241m-\u001b[39m L2\u001b[38;5;241m.\u001b[39mshape[\u001b[38;5;241m0\u001b[39m]\n\u001b[0;32m    209\u001b[0m \u001b[38;5;66;03m# L1|2\u001b[39;00m\n\u001b[0;32m    210\u001b[0m \u001b[38;5;66;03m# use the non-unique orthogonal completion since L12 is rank r\u001b[39;00m\n",
      "File \u001b[1;32m~\\AppData\\Local\\Programs\\Python\\Python312\\Lib\\site-packages\\scipy\\linalg\\_decomp_qr.py:140\u001b[0m, in \u001b[0;36mqr\u001b[1;34m(a, overwrite_a, lwork, mode, pivoting, check_finite)\u001b[0m\n\u001b[0;32m    136\u001b[0m     \u001b[38;5;28;01mraise\u001b[39;00m \u001b[38;5;167;01mValueError\u001b[39;00m(\u001b[38;5;124m\"\u001b[39m\u001b[38;5;124mMode argument should be one of [\u001b[39m\u001b[38;5;124m'\u001b[39m\u001b[38;5;124mfull\u001b[39m\u001b[38;5;124m'\u001b[39m\u001b[38;5;124m, \u001b[39m\u001b[38;5;124m'\u001b[39m\u001b[38;5;124mr\u001b[39m\u001b[38;5;124m'\u001b[39m\u001b[38;5;124m, \u001b[39m\u001b[38;5;124m\"\u001b[39m\n\u001b[0;32m    137\u001b[0m                      \u001b[38;5;124m\"\u001b[39m\u001b[38;5;124m'\u001b[39m\u001b[38;5;124meconomic\u001b[39m\u001b[38;5;124m'\u001b[39m\u001b[38;5;124m, \u001b[39m\u001b[38;5;124m'\u001b[39m\u001b[38;5;124mraw\u001b[39m\u001b[38;5;124m'\u001b[39m\u001b[38;5;124m]\u001b[39m\u001b[38;5;124m\"\u001b[39m)\n\u001b[0;32m    139\u001b[0m \u001b[38;5;28;01mif\u001b[39;00m check_finite:\n\u001b[1;32m--> 140\u001b[0m     a1 \u001b[38;5;241m=\u001b[39m \u001b[43mnp\u001b[49m\u001b[38;5;241;43m.\u001b[39;49m\u001b[43masarray_chkfinite\u001b[49m\u001b[43m(\u001b[49m\u001b[43ma\u001b[49m\u001b[43m)\u001b[49m\n\u001b[0;32m    141\u001b[0m \u001b[38;5;28;01melse\u001b[39;00m:\n\u001b[0;32m    142\u001b[0m     a1 \u001b[38;5;241m=\u001b[39m np\u001b[38;5;241m.\u001b[39masarray(a)\n",
      "File \u001b[1;32m~\\AppData\\Local\\Programs\\Python\\Python312\\Lib\\site-packages\\numpy\\lib\\_function_base_impl.py:649\u001b[0m, in \u001b[0;36masarray_chkfinite\u001b[1;34m(a, dtype, order)\u001b[0m\n\u001b[0;32m    647\u001b[0m a \u001b[38;5;241m=\u001b[39m asarray(a, dtype\u001b[38;5;241m=\u001b[39mdtype, order\u001b[38;5;241m=\u001b[39morder)\n\u001b[0;32m    648\u001b[0m \u001b[38;5;28;01mif\u001b[39;00m a\u001b[38;5;241m.\u001b[39mdtype\u001b[38;5;241m.\u001b[39mchar \u001b[38;5;129;01min\u001b[39;00m typecodes[\u001b[38;5;124m'\u001b[39m\u001b[38;5;124mAllFloat\u001b[39m\u001b[38;5;124m'\u001b[39m] \u001b[38;5;129;01mand\u001b[39;00m \u001b[38;5;129;01mnot\u001b[39;00m np\u001b[38;5;241m.\u001b[39misfinite(a)\u001b[38;5;241m.\u001b[39mall():\n\u001b[1;32m--> 649\u001b[0m     \u001b[38;5;28;01mraise\u001b[39;00m \u001b[38;5;167;01mValueError\u001b[39;00m(\n\u001b[0;32m    650\u001b[0m         \u001b[38;5;124m\"\u001b[39m\u001b[38;5;124marray must not contain infs or NaNs\u001b[39m\u001b[38;5;124m\"\u001b[39m)\n\u001b[0;32m    651\u001b[0m \u001b[38;5;28;01mreturn\u001b[39;00m a\n",
      "\u001b[1;31mValueError\u001b[0m: array must not contain infs or NaNs"
     ]
    }
   ],
   "source": [
    "import pandas as pd\n",
    "import statsmodels.api as sm\n",
    "from statsmodels.formula.api import ols\n",
    "\n",
    "# Sample data\n",
    "data = {\n",
    "    'temperature': ['low', 'low', 'medium', 'medium', 'high', 'high', 'low', 'low', 'medium', 'medium', 'high', 'high'],\n",
    "    'mixing_time': ['short', 'long', 'short', 'long', 'short', 'long', 'short', 'long', 'short', 'long', 'short', 'long'],\n",
    "    'sugar': ['low', 'high', 'low', 'high', 'low', 'high', 'high', 'low', 'high', 'low', 'high', 'low'],\n",
    "    'cake_height': [10, 15, 12, 18, 14, 20, 13, 11, 16, 17, 19, 15]\n",
    "}\n",
    "\n",
    "df = pd.DataFrame(data)\n",
    "\n",
    "# Factorial ANOVA model\n",
    "model = ols('cake_height ~ C(temperature) + C(mixing_time) + C(sugar) + C(temperature):C(mixing_time) + C(temperature):C(sugar) + C(mixing_time):C(sugar) + C(temperature):C(mixing_time):C(sugar)', data=df).fit()\n",
    "anova_table = sm.stats.anova_lm(model, typ=2)\n",
    "\n",
    "print(anova_table)"
   ]
  }
 ],
 "metadata": {
  "kernelspec": {
   "display_name": "Python 3 (ipykernel)",
   "language": "python",
   "name": "python3"
  },
  "language_info": {
   "codemirror_mode": {
    "name": "ipython",
    "version": 3
   },
   "file_extension": ".py",
   "mimetype": "text/x-python",
   "name": "python",
   "nbconvert_exporter": "python",
   "pygments_lexer": "ipython3",
   "version": "3.12.5"
  }
 },
 "nbformat": 4,
 "nbformat_minor": 5
}
