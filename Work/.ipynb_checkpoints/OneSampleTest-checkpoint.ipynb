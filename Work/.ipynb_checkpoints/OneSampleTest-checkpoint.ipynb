{
 "cells": [
  {
   "cell_type": "markdown",
   "id": "c749654c-0abc-44f9-96d5-d5b4d456000e",
   "metadata": {},
   "source": [
    "# One Sample T test "
   ]
  },
  {
   "cell_type": "code",
   "execution_count": 1,
   "id": "89f36bd9-87df-4ee1-a6ba-82bf51e9a5bb",
   "metadata": {},
   "outputs": [],
   "source": [
    "import numpy as np\n",
    "from scipy import stats"
   ]
  },
  {
   "cell_type": "markdown",
   "id": "648e45f5-31c5-4dff-add3-0b05ab06082e",
   "metadata": {},
   "source": [
    "### Two Tailed Ttest"
   ]
  },
  {
   "cell_type": "code",
   "execution_count": 2,
   "id": "c37d76e3-db1a-422a-9ffd-dd44f145dad3",
   "metadata": {},
   "outputs": [],
   "source": [
    "sample_data = np.array([22, 25, 28, 21, 24])\n",
    "hypothesized_mean = 23\n",
    "alpha = 0.05"
   ]
  },
  {
   "cell_type": "code",
   "execution_count": 3,
   "id": "72a36c71-7afe-42c1-8453-9cebb25c0bb8",
   "metadata": {},
   "outputs": [
    {
     "name": "stdout",
     "output_type": "stream",
     "text": [
      "0.8164965809277261\n",
      "0.460050752843961\n"
     ]
    }
   ],
   "source": [
    "t_statistics,p_value=stats.ttest_1samp(sample_data,hypothesized_mean,alternative='two-sided')\n",
    "print(t_statistics)\n",
    "print(p_value)"
   ]
  },
  {
   "cell_type": "code",
   "execution_count": 4,
   "id": "e1006ac2-6137-42b3-a4b0-0977b9d0fb53",
   "metadata": {},
   "outputs": [],
   "source": [
    "import matplotlib.pyplot as plt\n",
    "import seaborn as sns"
   ]
  },
  {
   "cell_type": "code",
   "execution_count": 5,
   "id": "910e207d-95eb-4dfc-b826-25baad81041f",
   "metadata": {},
   "outputs": [
    {
     "data": {
      "text/plain": [
       "<matplotlib.lines.Line2D at 0x2aa0af496a0>"
      ]
     },
     "execution_count": 5,
     "metadata": {},
     "output_type": "execute_result"
    },
    {
     "data": {
      "image/png": "[encoded data removed]",
      "text/plain": [
       "<Figure size 640x480 with 1 Axes>"
      ]
     },
     "metadata": {},
     "output_type": "display_data"
    }
   ],
   "source": [
    "plt.subplot(1,1,1)\n",
    "plt.plot(sample_data,'r--')\n",
    "plt.axvline(x=p_value,)"
   ]
  },
  {
   "cell_type": "markdown",
   "id": "3c9c404c-1371-4f18-89bd-334de365868b",
   "metadata": {},
   "source": [
    "modeuling in function\n"
   ]
  },
  {
   "cell_type": "code",
   "execution_count": 6,
   "id": "3c7af30f-b891-4542-8d93-4316191c97aa",
   "metadata": {},
   "outputs": [],
   "source": [
    "def ttest_1samp(sample_data,hypothesized_mean,alternative):\n",
    "    t_statistics,p_value=stats.ttest_1samp(sample_data,hypothesized_mean,alternative=alternative)\n",
    "    return t_statistics,p_value"
   ]
  },
  {
   "cell_type": "code",
   "execution_count": 7,
   "id": "e6f8e3fc-0b12-44d8-84d6-851e23842cec",
   "metadata": {},
   "outputs": [
    {
     "name": "stdout",
     "output_type": "stream",
     "text": [
      "(np.float64(0.8164965809277261), np.float64(0.460050752843961))\n"
     ]
    }
   ],
   "source": [
    "print(ttest_1samp(sample_data,hypothesized_mean,'two-sided'))"
   ]
  },
  {
   "cell_type": "code",
   "execution_count": 8,
   "id": "135bf1bb-98b2-4b5b-9314-ccf9c7bd6dd8",
   "metadata": {},
   "outputs": [
    {
     "name": "stdout",
     "output_type": "stream",
     "text": [
      "(np.float64(0.8164965809277261), np.float64(0.7699746235780195))\n"
     ]
    }
   ],
   "source": [
    "print(ttest_1samp(sample_data,hypothesized_mean,'less'))"
   ]
  },
  {
   "cell_type": "code",
   "execution_count": 9,
   "id": "ba7d71b5-8095-4a50-a3bf-e89a0b7e1256",
   "metadata": {},
   "outputs": [
    {
     "name": "stdout",
     "output_type": "stream",
     "text": [
      "(np.float64(0.8164965809277261), np.float64(0.2300253764219805))\n"
     ]
    }
   ],
   "source": [
    "print(ttest_1samp(sample_data,hypothesized_mean,'greater'))"
   ]
  },
  {
   "cell_type": "markdown",
   "id": "853579b0-4130-4088-a21a-dfc3f88a53b4",
   "metadata": {},
   "source": [
    "### One Tailed ttest"
   ]
  },
  {
   "cell_type": "markdown",
   "id": "1fa8dfb6-6e4b-4f1b-b5f7-085cec2abef8",
   "metadata": {},
   "source": [
    "#### 1. alternative='greater'\n",
    "##### -> ttest=(+)ve p_value=pvalue/2\n",
    "##### -> ttest=(-)ive p_value=1-pvalue/2\n",
    "#### 2. alternative='less'\n",
    "##### -> ttest=(+)ve p_value=1-pvalue/2\n",
    "##### -> ttest=(-)ive p_value=pvalue/2"
   ]
  },
  {
   "cell_type": "code",
   "execution_count": 10,
   "id": "b5f239dd-6d71-44d3-9ead-43e8934a5282",
   "metadata": {},
   "outputs": [
    {
     "name": "stdout",
     "output_type": "stream",
     "text": [
      "0.7699746235780195\n",
      "0.6150126882109903\n"
     ]
    }
   ],
   "source": [
    "t_statistics,p_value=stats.ttest_1samp(sample_data,hypothesized_mean,alternative='less')\n",
    "print(p_value)\n",
    "if(t_statistics<0):\n",
    "    p_value=p_value/2\n",
    "    print(p_value)\n",
    "else:\n",
    "    p_value=1-p_value/2\n",
    "    print(p_value)"
   ]
  },
  {
   "cell_type": "code",
   "execution_count": 11,
   "id": "72ecce52-e5a7-4e75-89ae-5c0d24ebdfa1",
   "metadata": {},
   "outputs": [
    {
     "name": "stdout",
     "output_type": "stream",
     "text": [
      "0.2300253764219805\n",
      "0.11501268821099025\n"
     ]
    }
   ],
   "source": [
    "t_statistics,p_value=stats.ttest_1samp(sample_data,hypothesized_mean,alternative='greater')\n",
    "print(p_value)\n",
    "if(t_statistics>0):\n",
    "    p_value=p_value/2\n",
    "    print(p_value)\n",
    "else:\n",
    "    p_value=1-p_value/2\n",
    "    print(p_value)"
   ]
  },
  {
   "cell_type": "markdown",
   "id": "c2826109-9c09-4b8c-baee-808819fd7338",
   "metadata": {},
   "source": [
    "# One Smaple Z Test"
   ]
  },
  {
   "cell_type": "code",
   "execution_count": 12,
   "id": "ad802e63-da92-4740-9d7c-2b5f2ef8b1a2",
   "metadata": {},
   "outputs": [],
   "source": [
    "from statsmodels.stats.weightstats import ztest as ztest_ind\n",
    "\n",
    "# Sample data\n",
    "sample_data = np.array([72, 78, 80, 75, 76, 79])\n",
    "hypothesized_mean = 77\n",
    "population_std = 3\n",
    "alpha = 0.05"
   ]
  },
  {
   "cell_type": "markdown",
   "id": "a6af0bc2-1a9d-4f2b-a4b8-bb24b3addedd",
   "metadata": {},
   "source": [
    "### Two Tailed Z test"
   ]
  },
  {
   "cell_type": "code",
   "execution_count": 13,
   "id": "ec0ff965-5bdf-4f2d-a912-34a0aac70d93",
   "metadata": {},
   "outputs": [
    {
     "name": "stdout",
     "output_type": "stream",
     "text": [
      "-0.2773500981126107\n",
      "0.7815112949987163\n"
     ]
    }
   ],
   "source": [
    "z_statistics,p_value=ztest_ind(x1=sample_data,value=hypothesized_mean,alternative='two-sided')\n",
    "print(z_statistics)\n",
    "print(p_value)"
   ]
  },
  {
   "cell_type": "markdown",
   "id": "312b7c30-5ca6-43d3-9d59-bd82f1bbdf66",
   "metadata": {},
   "source": [
    "p_value>alpha\n",
    "##### -> Fail toreject the null hypothesis\n"
   ]
  },
  {
   "cell_type": "markdown",
   "id": "b9235b09-c2df-48cf-95bc-2d78a06dc24c",
   "metadata": {},
   "source": [
    "### Two Tailed TTest"
   ]
  },
  {
   "cell_type": "code",
   "execution_count": 16,
   "id": "21e8d03c-9379-430a-bff9-b6ff7877992a",
   "metadata": {},
   "outputs": [],
   "source": [
    "from scipy import stats"
   ]
  },
  {
   "cell_type": "code",
   "execution_count": 18,
   "id": "42241fcd-ca42-4338-b006-777f222c61f0",
   "metadata": {},
   "outputs": [],
   "source": [
    "group_a = np.array([10, 12, 15, 11, 13])\n",
    "group_b = np.array([8, 9, 11, 7, 10])\n",
    "alpha = 0.05"
   ]
  },
  {
   "cell_type": "code",
   "execution_count": 19,
   "id": "65029288-7a58-42de-afd4-cb130579f1e1",
   "metadata": {},
   "outputs": [
    {
     "name": "stdout",
     "output_type": "stream",
     "text": [
      "false\n"
     ]
    }
   ],
   "source": [
    "if(group_a.var()==group_b.var()):\n",
    "    print(\"True\")\n",
    "else:\n",
    "    print(\"false\")"
   ]
  },
  {
   "cell_type": "code",
   "execution_count": 21,
   "id": "b42670b8-1800-48d0-b38a-b1fd21ae4264",
   "metadata": {},
   "outputs": [
    {
     "name": "stdout",
     "output_type": "stream",
     "text": [
      "2.96\n",
      "2.0\n"
     ]
    }
   ],
   "source": [
    "print(group_a.var())\n",
    "print(group_b.var())"
   ]
  },
  {
   "cell_type": "code",
   "execution_count": 22,
   "id": "b56ee496-f317-4024-920d-cb233e5451b1",
   "metadata": {},
   "outputs": [],
   "source": [
    "z_statistics,p_value=stats.ttest_ind(group_a,group_b,equal_var=False,alternative='two-sided')"
   ]
  },
  {
   "cell_type": "code",
   "execution_count": 23,
   "id": "112741d7-3e0d-4ebd-b956-94776cf55894",
   "metadata": {},
   "outputs": [
    {
     "name": "stdout",
     "output_type": "stream",
     "text": [
      "Reject Null Hypothesis\n"
     ]
    }
   ],
   "source": [
    "if(p_value<=alpha):\n",
    "    print(\"Reject Null Hypothesis\")\n",
    "else:\n",
    "    print(\"fail to reject null hyphothesis\")"
   ]
  },
  {
   "cell_type": "code",
   "execution_count": 25,
   "id": "ff0f45bb-7a7b-48d2-9508-737253468f82",
   "metadata": {},
   "outputs": [
    {
     "name": "stdout",
     "output_type": "stream",
     "text": [
      "2.8736848324283977\n",
      "0.02152400418154055\n"
     ]
    }
   ],
   "source": [
    "print(z_statistics)\n",
    "print(p_value)\n"
   ]
  },
  {
   "cell_type": "markdown",
   "id": "58ad84af-8131-46ee-a519-66ff103e9b67",
   "metadata": {},
   "source": [
    "### Two Sample ztest"
   ]
  },
  {
   "cell_type": "code",
   "execution_count": 26,
   "id": "c9e1cce0-5317-4e64-8a95-2b6f7523b037",
   "metadata": {},
   "outputs": [],
   "source": [
    "group1_z = np.random.normal(loc=28, scale=2, size=50) # Example data\n",
    "group2_z = np.random.normal(loc=26, scale=2.5, size=60) # Example data\n",
    "std_group1 = 2\n",
    "std_group2 = 2.5\n",
    "alpha = 0.05"
   ]
  },
  {
   "cell_type": "code",
   "execution_count": 29,
   "id": "e88ff471-7408-4127-aa7c-e48dca00d44b",
   "metadata": {},
   "outputs": [],
   "source": [
    "import math\n",
    "standard_error=math.sqrt((std_group1**2)/len(group1_z) + (std_group2**2)/len(group2_z))"
   ]
  },
  {
   "cell_type": "code",
   "execution_count": 33,
   "id": "c064c684-6ced-42d7-a922-09e94d3b97fd",
   "metadata": {
    "scrolled": true
   },
   "outputs": [],
   "source": [
    "z_statistics,p_value=ztest_ind(x1=group1_z,x2=group2_z,alternative='two-sided')"
   ]
  },
  {
   "cell_type": "code",
   "execution_count": 34,
   "id": "5f6f2730-0ebc-4e0e-8c28-143be9ab5966",
   "metadata": {},
   "outputs": [
    {
     "name": "stdout",
     "output_type": "stream",
     "text": [
      "4.647017764506451\n",
      "3.3676817448096015e-06\n"
     ]
    }
   ],
   "source": [
    "print(z_statistics)\n",
    "print(p_value)"
   ]
  },
  {
   "cell_type": "code",
   "execution_count": 36,
   "id": "6776e234-0f61-4d1b-9087-c1904a5dd5aa",
   "metadata": {},
   "outputs": [
    {
     "name": "stdout",
     "output_type": "stream",
     "text": [
      "True\n"
     ]
    }
   ],
   "source": [
    "print(p_value<alpha)"
   ]
  },
  {
   "cell_type": "markdown",
   "id": "4e7d556e-612e-4c66-8b1c-805d5e0d9939",
   "metadata": {},
   "source": [
    "# Problems "
   ]
  },
  {
   "cell_type": "markdown",
   "id": "4d4684a4-a1c0-4c92-bdbf-6f8e9cbb2c01",
   "metadata": {},
   "source": [
    "A company is testing the effectiveness of two different customer service training programs. They want to know if there's a significant difference in customer satisfaction scores between employees who completed Training Program A and those who completed Training Program B.\n",
    "\n",
    "After the training, they surveyed customers who interacted with employees from each group. The customer satisfaction scores were recorded on a scale of 1 to 10 (higher score indicates greater satisfaction)."
   ]
  },
  {
   "cell_type": "code",
   "execution_count": 37,
   "id": "2ce26de3-0dfd-4e49-bfd5-febd8338ef82",
   "metadata": {},
   "outputs": [],
   "source": [
    "# Scores for employees who completed Training Program A\n",
    "program_a_scores = np.array([7, 8, 9, 6, 8, 7, 9, 8, 7, 6, 8, 9, 7, 8, 9, 6, 7, 8, 9, 7])\n",
    "\n",
    "# Scores for employees who completed Training Program B\n",
    "program_b_scores = np.array([6, 7, 5, 8, 6, 7, 6, 7, 5, 7, 6, 8, 7, 6, 7, 5, 6, 7, 8, 6, 7])"
   ]
  },
  {
   "cell_type": "code",
   "execution_count": 39,
   "id": "85b6e3f5-2169-4050-a8cf-e1593082ced2",
   "metadata": {},
   "outputs": [],
   "source": [
    "if(program_a_scores.var()==program_b_scores.var()):\n",
    "    print(\"true\")"
   ]
  },
  {
   "cell_type": "code",
   "execution_count": 40,
   "id": "3418f9ec-593e-447a-a288-d9aa975fb7d9",
   "metadata": {},
   "outputs": [
    {
     "data": {
      "text/plain": [
       "20"
      ]
     },
     "execution_count": 40,
     "metadata": {},
     "output_type": "execute_result"
    }
   ],
   "source": [
    "len(program_a_scores)"
   ]
  },
  {
   "cell_type": "code",
   "execution_count": 41,
   "id": "b119a853-2cd9-4e68-bc4c-d0cb7ce3b211",
   "metadata": {},
   "outputs": [],
   "source": [
    "from scipy import stats\n"
   ]
  },
  {
   "cell_type": "code",
   "execution_count": 43,
   "id": "8079898c-1db2-441b-bcd6-f8119d52432f",
   "metadata": {},
   "outputs": [],
   "source": [
    "ttest_statistics,p_value=stats.ttest_ind(program_a_scores,program_b_scores,equal_var=False,alternative='two-sided')"
   ]
  },
  {
   "cell_type": "code",
   "execution_count": 44,
   "id": "5a17b521-760d-48f4-9524-55bf6042ee10",
   "metadata": {},
   "outputs": [
    {
     "name": "stdout",
     "output_type": "stream",
     "text": [
      "Their is Significant Difference\n"
     ]
    }
   ],
   "source": [
    "if(p_value<=alpha):\n",
    "    print(\"Their is Significant Difference\")\n",
    "else:\n",
    "    print(\"Thier is no significant difference\")"
   ]
  },
  {
   "cell_type": "markdown",
   "id": "10098247-5895-4f8f-93ed-3102d9476978",
   "metadata": {},
   "source": [
    "2. A researcher is studying the average lifespan of a specific type of light bulb produced by a new manufacturing process. They take a random sample of 100 light bulbs and find that the sample mean lifespan is 780 hours with a sample standard deviation of 80 hours.\n",
    "\n",
    "A previous study, using a well-established manufacturing process, found that the average lifespan of these light bulbs was 800 hours.\n",
    "\n",
    "The researcher wants to determine if the new manufacturing process has significantly changed the average lifespan of the light bulbs compared to the old process, using a significance level (α) of 0.05."
   ]
  },
  {
   "cell_type": "code",
   "execution_count": 47,
   "id": "17559016-6c20-42c2-90af-37fade6fedd1",
   "metadata": {},
   "outputs": [],
   "source": [
    "samp_n=100\n",
    "data=np.random.normal(loc=mean_samp,scale=std_samp,size=samp_n)\n",
    "mean_samp=780\n",
    "std_samp=80\n",
    "mean_pop=800\n",
    "alpha=0.05\n"
   ]
  },
  {
   "cell_type": "markdown",
   "id": "00844f7d-7eff-47e6-bee5-ca8d0e62a8ad",
   "metadata": {},
   "source": [
    "population std is not given so we will go with ttest"
   ]
  },
  {
   "cell_type": "code",
   "execution_count": 49,
   "id": "5baa566b-1913-4c03-9f45-23cfd5d9cfb4",
   "metadata": {},
   "outputs": [],
   "source": [
    "ttest_statostics,p_value=stats.ttest_1samp(data,std_samp,alternative='two-sided')"
   ]
  },
  {
   "cell_type": "code",
   "execution_count": null,
   "id": "d18cbe6c-ae88-44a9-9f90-a393739b6906",
   "metadata": {},
   "outputs": [],
   "source": []
  }
 ],
 "metadata": {
  "kernelspec": {
   "display_name": "Python 3 (ipykernel)",
   "language": "python",
   "name": "python3"
  },
  "language_info": {
   "codemirror_mode": {
    "name": "ipython",
    "version": 3
   },
   "file_extension": ".py",
   "mimetype": "text/x-python",
   "name": "python",
   "nbconvert_exporter": "python",
   "pygments_lexer": "ipython3",
   "version": "3.12.5"
  }
 },
 "nbformat": 4,
 "nbformat_minor": 5
}
