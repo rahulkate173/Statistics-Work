{
 "cells": [
  {
   "cell_type": "code",
   "execution_count": 3,
   "id": "e4bd4f42-c075-4a08-8392-32b0b421644e",
   "metadata": {},
   "outputs": [],
   "source": [
    "import numpy as np\n",
    "from scipy import stats"
   ]
  },
  {
   "cell_type": "markdown",
   "id": "f0917db2-6ac6-482f-8961-719dda3edd21",
   "metadata": {},
   "source": [
    "# 1. ChiSquare For Independence"
   ]
  },
  {
   "cell_type": "markdown",
   "id": "cbadb981-b0d7-4451-98d6-f3c1a5dd8b26",
   "metadata": {},
   "source": [
    "Calculated when Two or more Category are present"
   ]
  },
  {
   "cell_type": "code",
   "execution_count": 4,
   "id": "ff4d2072-9181-468f-b499-6600c9c5d4d7",
   "metadata": {},
   "outputs": [],
   "source": [
    "observed = np.array([[80, 70, 50],\n",
    "                     [40, 60, 30],\n",
    "                     [30, 25, 15]])\n",
    "chi2,p,dof,exp=stats.chi2_contingency(observed)"
   ]
  },
  {
   "cell_type": "code",
   "execution_count": 5,
   "id": "ee148884-d508-458c-a4ff-696556f187df",
   "metadata": {},
   "outputs": [],
   "source": [
    "if(p<=0.05):\n",
    "    print(\"Fail to reject\")"
   ]
  },
  {
   "cell_type": "code",
   "execution_count": 6,
   "id": "3de6dbe6-5091-4233-b5f9-8815f967f4d3",
   "metadata": {},
   "outputs": [
    {
     "data": {
      "text/plain": [
       "np.float64(5.486072501352637)"
      ]
     },
     "execution_count": 6,
     "metadata": {},
     "output_type": "execute_result"
    }
   ],
   "source": [
    "chi2"
   ]
  },
  {
   "cell_type": "code",
   "execution_count": 7,
   "id": "1dfb6310-604c-40ab-9b5f-e1dd4e7eb400",
   "metadata": {},
   "outputs": [
    {
     "data": {
      "text/plain": [
       "np.float64(0.24095643321484916)"
      ]
     },
     "execution_count": 7,
     "metadata": {},
     "output_type": "execute_result"
    }
   ],
   "source": [
    "p"
   ]
  },
  {
   "cell_type": "code",
   "execution_count": 8,
   "id": "f64f0365-5823-431e-852a-b5c8840fbb5e",
   "metadata": {},
   "outputs": [
    {
     "data": {
      "text/plain": [
       "4"
      ]
     },
     "execution_count": 8,
     "metadata": {},
     "output_type": "execute_result"
    }
   ],
   "source": [
    "dof"
   ]
  },
  {
   "cell_type": "code",
   "execution_count": 9,
   "id": "cd6855ca-278e-4bdf-9510-46a959581cee",
   "metadata": {},
   "outputs": [
    {
     "data": {
      "text/plain": [
       "array([[75.   , 77.5  , 47.5  ],\n",
       "       [48.75 , 50.375, 30.875],\n",
       "       [26.25 , 27.125, 16.625]])"
      ]
     },
     "execution_count": 9,
     "metadata": {},
     "output_type": "execute_result"
    }
   ],
   "source": [
    "exp"
   ]
  },
  {
   "cell_type": "markdown",
   "id": "b1a7922e-fa09-4570-9337-7f759cf4d8ce",
   "metadata": {},
   "source": [
    "Correct"
   ]
  },
  {
   "cell_type": "markdown",
   "id": "877465e3-36d7-4377-8f5d-95f8166efaba",
   "metadata": {},
   "source": [
    "# 2. Chi-Square Goodness-of-Fit Test:"
   ]
  },
  {
   "cell_type": "markdown",
   "id": "24d1526d-222a-49ab-bd17-1622e44edb79",
   "metadata": {},
   "source": [
    "Used When only one category is present"
   ]
  },
  {
   "cell_type": "code",
   "execution_count": 19,
   "id": "b6ced316-9c33-4c54-b59b-922d7002ba10",
   "metadata": {},
   "outputs": [],
   "source": [
    "observed_frequencies = np.array([55, 50, 52, 53, 58, 49, 48])\n",
    "exp=np.zeros(7)\n",
    "n=len(observed_frequencies)\n",
    "exp=observed_frequencies.sum()/n"
   ]
  },
  {
   "cell_type": "code",
   "execution_count": 20,
   "id": "a73cbadf-f7b9-476a-9f54-f80413237168",
   "metadata": {},
   "outputs": [
    {
     "data": {
      "text/plain": [
       "Power_divergenceResult(statistic=np.float64(1.4356164383561643), pvalue=np.float64(0.9636560547193673))"
      ]
     },
     "execution_count": 20,
     "metadata": {},
     "output_type": "execute_result"
    }
   ],
   "source": [
    "stats.chisquare(observed_frequencies,f_exp=exp,ddof=0)"
   ]
  },
  {
   "cell_type": "code",
   "execution_count": 21,
   "id": "d95b94b1-3c96-4a8b-8e2c-2de562bbf0cc",
   "metadata": {},
   "outputs": [
    {
     "data": {
      "text/plain": [
       "np.float64(52.142857142857146)"
      ]
     },
     "execution_count": 21,
     "metadata": {},
     "output_type": "execute_result"
    }
   ],
   "source": [
    "exp"
   ]
  },
  {
   "cell_type": "markdown",
   "id": "356aad05-6e65-4134-bed5-4040ca9441c9",
   "metadata": {},
   "source": [
    "# Problems"
   ]
  },
  {
   "cell_type": "markdown",
   "id": "1e0f2ac2-a86e-4829-9da8-8412d7535871",
   "metadata": {},
   "source": [
    "1.A marketing team wants to know if there's a relationship between the type of advertisement used (Online vs. Print) and whether a customer makes a purchase (Yes vs. No). They collected data from 500 customers who were exposed to one of the advertisement types. The results are shown below:"
   ]
  },
  {
   "cell_type": "code",
   "execution_count": 23,
   "id": "94be4346-6ab9-4abc-9f24-6a018a5bb705",
   "metadata": {},
   "outputs": [],
   "source": [
    "observed_frequencies = np.array([[120, 180],  \n",
    "                                [50, 150]])  "
   ]
  },
  {
   "cell_type": "code",
   "execution_count": 31,
   "id": "c5b8730e-6620-4c47-a376-125540c7ea55",
   "metadata": {},
   "outputs": [],
   "source": [
    "chi2,p,dof,exp=stats.chi2_contingency(observed_frequencies)"
   ]
  },
  {
   "cell_type": "code",
   "execution_count": 33,
   "id": "54157e25-b747-47ca-bc24-07484bb424d5",
   "metadata": {},
   "outputs": [
    {
     "name": "stdout",
     "output_type": "stream",
     "text": [
      "reject null hypothesis\n"
     ]
    }
   ],
   "source": [
    "if(p<=0.05):\n",
    "    print(\"reject null hypothesis\")\n"
   ]
  },
  {
   "cell_type": "code",
   "execution_count": 34,
   "id": "a192c19c-7987-4add-9625-3c8f48206d5d",
   "metadata": {},
   "outputs": [
    {
     "data": {
      "text/plain": [
       "np.float64(0.0007452261510249578)"
      ]
     },
     "execution_count": 34,
     "metadata": {},
     "output_type": "execute_result"
    }
   ],
   "source": [
    "p"
   ]
  },
  {
   "cell_type": "code",
   "execution_count": 35,
   "id": "c44c9dfe-6af5-44a4-80e8-a113b01db9e9",
   "metadata": {},
   "outputs": [
    {
     "data": {
      "text/plain": [
       "1"
      ]
     },
     "execution_count": 35,
     "metadata": {},
     "output_type": "execute_result"
    }
   ],
   "source": [
    "dof"
   ]
  },
  {
   "cell_type": "code",
   "execution_count": 36,
   "id": "889a2dbf-167d-4864-af4a-6079b1291f0c",
   "metadata": {},
   "outputs": [
    {
     "data": {
      "text/plain": [
       "np.float64(11.372920380273321)"
      ]
     },
     "execution_count": 36,
     "metadata": {},
     "output_type": "execute_result"
    }
   ],
   "source": [
    "chi2"
   ]
  },
  {
   "cell_type": "code",
   "execution_count": 37,
   "id": "36de544e-19a7-49d3-b96a-e015f489bb37",
   "metadata": {},
   "outputs": [
    {
     "data": {
      "text/plain": [
       "array([[102., 198.],\n",
       "       [ 68., 132.]])"
      ]
     },
     "execution_count": 37,
     "metadata": {},
     "output_type": "execute_result"
    }
   ],
   "source": [
    "exp"
   ]
  },
  {
   "cell_type": "code",
   "execution_count": null,
   "id": "4e25dbcd-d8c8-4fd4-841b-1570abb58607",
   "metadata": {},
   "outputs": [],
   "source": []
  }
 ],
 "metadata": {
  "kernelspec": {
   "display_name": "Python 3 (ipykernel)",
   "language": "python",
   "name": "python3"
  },
  "language_info": {
   "codemirror_mode": {
    "name": "ipython",
    "version": 3
   },
   "file_extension": ".py",
   "mimetype": "text/x-python",
   "name": "python",
   "nbconvert_exporter": "python",
   "pygments_lexer": "ipython3",
   "version": "3.12.5"
  }
 },
 "nbformat": 4,
 "nbformat_minor": 5
}
