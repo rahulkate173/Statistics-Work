{
 "cells": [
  {
   "cell_type": "markdown",
   "id": "b4c20900-b225-4ece-90a0-48d67e16b0ce",
   "metadata": {},
   "source": [
    "#              PROBABILITY "
   ]
  },
  {
   "cell_type": "markdown",
   "id": "635087f3-57b3-4f61-87e9-b22b4825ab14",
   "metadata": {},
   "source": [
    "### 1.1 Linda the banker \n",
    "Linda is 31 years old, single, outspoken, and very bright. She majored in philosophy. As a\n",
    " student, she was deeply concerned with issues of discrimination and social justice, and\n",
    " also participated in anti-nuclear demonstrations. Which is more probable?\n",
    " 1. Linda is a bank teller.\n",
    " 2. Linda is a bank teller and is active in the feminist movement.\n",
    "\n",
    "Answer: Here most of them will chooose the second one ,but note the probability of Conjuction(both event) is less that probability of single event "
   ]
  },
  {
   "cell_type": "markdown",
   "id": "e82fa8c9-2da8-4bf3-b9cc-e95666ed94ec",
   "metadata": {},
   "source": [
    "P(A∩B)=P(A)×P(B∣A)"
   ]
  },
  {
   "cell_type": "markdown",
   "id": "37166932-3efb-48f3-bc81-14640da1e6c6",
   "metadata": {},
   "source": [
    "P(A∩B)≤P(A)"
   ]
  },
  {
   "cell_type": "markdown",
   "id": "0b9c8dfb-bf08-4dae-8b07-600393587fd8",
   "metadata": {},
   "source": [
    "This is why the probability of Linda being both a bank teller and a feminist is always less than or equal to just Linda being a bank teller."
   ]
  },
  {
   "cell_type": "markdown",
   "id": "49ded459-efee-4941-99ad-4c29f748593e",
   "metadata": {},
   "source": [
    "### 1.2 Probability"
   ]
  },
  {
   "cell_type": "markdown",
   "id": "7e653275-83d8-41de-982d-12d56d010ce8",
   "metadata": {},
   "source": [
    "-> Fraction of Finite Set"
   ]
  },
  {
   "cell_type": "markdown",
   "id": "d8f56d24-8f3b-4e2d-9d46-d9de22ee0190",
   "metadata": {},
   "source": [
    "For example, if we survey 1000 people, and 20 of them are bank tellers, the fraction that work\n",
    " as bank tellers is 0.02 or 2%. If we choose a person from this population at random, the\n",
    " probability that they are a bank teller is 2%. By “at random” I mean that every person in the\n",
    " dataset has the same chance of being chosen."
   ]
  },
  {
   "cell_type": "code",
   "execution_count": 1,
   "id": "085147f7-d0bd-4956-a167-5efab0081ca3",
   "metadata": {},
   "outputs": [],
   "source": [
    "import pandas as pd\n",
    "import numpy as np\n",
    "import matplotlib.pyplot as plt\n",
    "import seaborn as sns"
   ]
  },
  {
   "cell_type": "code",
   "execution_count": 2,
   "id": "575b8872-fe85-4f06-8ad9-4c05076f8735",
   "metadata": {},
   "outputs": [
    {
     "data": {
      "text/html": [
       "<div>\n",
       "<style scoped>\n",
       "    .dataframe tbody tr th:only-of-type {\n",
       "        vertical-align: middle;\n",
       "    }\n",
       "\n",
       "    .dataframe tbody tr th {\n",
       "        vertical-align: top;\n",
       "    }\n",
       "\n",
       "    .dataframe thead th {\n",
       "        text-align: right;\n",
       "    }\n",
       "</style>\n",
       "<table border=\"1\" class=\"dataframe\">\n",
       "  <thead>\n",
       "    <tr style=\"text-align: right;\">\n",
       "      <th></th>\n",
       "      <th>caseid</th>\n",
       "      <th>year</th>\n",
       "      <th>age</th>\n",
       "      <th>sex</th>\n",
       "      <th>polviews</th>\n",
       "      <th>partyid</th>\n",
       "      <th>indus10</th>\n",
       "    </tr>\n",
       "  </thead>\n",
       "  <tbody>\n",
       "    <tr>\n",
       "      <th>0</th>\n",
       "      <td>1</td>\n",
       "      <td>2008</td>\n",
       "      <td>25</td>\n",
       "      <td>1</td>\n",
       "      <td>6</td>\n",
       "      <td>6</td>\n",
       "      <td>7683</td>\n",
       "    </tr>\n",
       "    <tr>\n",
       "      <th>1</th>\n",
       "      <td>2</td>\n",
       "      <td>2021</td>\n",
       "      <td>21</td>\n",
       "      <td>2</td>\n",
       "      <td>4</td>\n",
       "      <td>5</td>\n",
       "      <td>1277</td>\n",
       "    </tr>\n",
       "    <tr>\n",
       "      <th>2</th>\n",
       "      <td>3</td>\n",
       "      <td>1998</td>\n",
       "      <td>57</td>\n",
       "      <td>1</td>\n",
       "      <td>5</td>\n",
       "      <td>0</td>\n",
       "      <td>1232</td>\n",
       "    </tr>\n",
       "    <tr>\n",
       "      <th>3</th>\n",
       "      <td>4</td>\n",
       "      <td>1984</td>\n",
       "      <td>21</td>\n",
       "      <td>2</td>\n",
       "      <td>1</td>\n",
       "      <td>3</td>\n",
       "      <td>6690</td>\n",
       "    </tr>\n",
       "    <tr>\n",
       "      <th>4</th>\n",
       "      <td>5</td>\n",
       "      <td>2012</td>\n",
       "      <td>73</td>\n",
       "      <td>2</td>\n",
       "      <td>4</td>\n",
       "      <td>3</td>\n",
       "      <td>8659</td>\n",
       "    </tr>\n",
       "  </tbody>\n",
       "</table>\n",
       "</div>"
      ],
      "text/plain": [
       "   caseid  year  age  sex  polviews  partyid  indus10\n",
       "0       1  2008   25    1         6        6     7683\n",
       "1       2  2021   21    2         4        5     1277\n",
       "2       3  1998   57    1         5        0     1232\n",
       "3       4  1984   21    2         1        3     6690\n",
       "4       5  2012   73    2         4        3     8659"
      ]
     },
     "execution_count": 2,
     "metadata": {},
     "output_type": "execute_result"
    }
   ],
   "source": [
    "gss=pd.read_csv('D:/OneDrive/Desktop/jupyter/Statistics/datasets/survey_respondents.csv')\n",
    "gss.head()"
   ]
  },
  {
   "cell_type": "markdown",
   "id": "db98229a-a11f-4182-9c13-783e939e9fd8",
   "metadata": {},
   "source": [
    "For example, if we survey 1000 people, and 20 of them are bank tellers, the fraction that work\n",
    " as bank tellers is 0.02 or 2%. If we choose a person from this population at random, the\n",
    " probability that they are a bank teller is 2%. By “at random” I mean that every person in the\n",
    " dataset has the same chance of being chosen."
   ]
  },
  {
   "cell_type": "code",
   "execution_count": 3,
   "id": "4bb7a093-dc93-4e7a-85d7-d09fc56fd9a6",
   "metadata": {},
   "outputs": [],
   "source": [
    "import random "
   ]
  },
  {
   "cell_type": "code",
   "execution_count": 4,
   "id": "b6566ee8-e77d-4d98-b1cf-151703b7e255",
   "metadata": {},
   "outputs": [
    {
     "data": {
      "text/plain": [
       "indus10\n",
       "2932    2\n",
       "6520    2\n",
       "3606    2\n",
       "4278    2\n",
       "1018    2\n",
       "2920    2\n",
       "4490    2\n",
       "7410    2\n",
       "3535    2\n",
       "4764    2\n",
       "Name: count, dtype: int64"
      ]
     },
     "execution_count": 4,
     "metadata": {},
     "output_type": "execute_result"
    }
   ],
   "source": [
    "gss['indus10'].value_counts().nlargest(10)"
   ]
  },
  {
   "cell_type": "markdown",
   "id": "55877a9d-ade7-420f-882b-bcb315b89403",
   "metadata": {},
   "source": [
    "### 1.3 Fraction of Bankers"
   ]
  },
  {
   "cell_type": "code",
   "execution_count": 5,
   "id": "ec7cdc8e-2af1-4730-a8db-ae12af61065b",
   "metadata": {},
   "outputs": [
    {
     "data": {
      "text/plain": [
       "0    False\n",
       "1    False\n",
       "2    False\n",
       "3    False\n",
       "4    False\n",
       "Name: indus10, dtype: bool"
      ]
     },
     "execution_count": 5,
     "metadata": {},
     "output_type": "execute_result"
    }
   ],
   "source": [
    "banker=(gss['indus10']==2932)\n",
    "banker.head()"
   ]
  },
  {
   "cell_type": "code",
   "execution_count": 6,
   "id": "d982dea9-515a-4527-b673-ca0d2d4e4456",
   "metadata": {},
   "outputs": [
    {
     "data": {
      "text/plain": [
       "np.int64(2)"
      ]
     },
     "execution_count": 6,
     "metadata": {},
     "output_type": "execute_result"
    }
   ],
   "source": [
    "banker.sum()"
   ]
  },
  {
   "cell_type": "code",
   "execution_count": 7,
   "id": "3b4fece8-d766-447c-91f1-27c09913ba01",
   "metadata": {},
   "outputs": [
    {
     "data": {
      "text/plain": [
       "(1000, 7)"
      ]
     },
     "execution_count": 7,
     "metadata": {},
     "output_type": "execute_result"
    }
   ],
   "source": [
    "gss.shape"
   ]
  },
  {
   "cell_type": "markdown",
   "id": "18a6587a-4662-4d87-9887-78445835df4c",
   "metadata": {},
   "source": [
    "so it means that picking the person on thier job code->indus10 form 1000 respondant then it will give the probability of banker "
   ]
  },
  {
   "cell_type": "code",
   "execution_count": 8,
   "id": "48ef61a6-0c7a-4568-a7b6-01f4df1d86e6",
   "metadata": {},
   "outputs": [
    {
     "data": {
      "text/plain": [
       "np.float64(0.002)"
      ]
     },
     "execution_count": 8,
     "metadata": {},
     "output_type": "execute_result"
    }
   ],
   "source": [
    "banker.mean()"
   ]
  },
  {
   "cell_type": "code",
   "execution_count": 9,
   "id": "edd3a6a5-5904-4525-a26a-9566d5de8428",
   "metadata": {},
   "outputs": [
    {
     "data": {
      "text/plain": [
       "np.float64(0.2)"
      ]
     },
     "execution_count": 9,
     "metadata": {},
     "output_type": "execute_result"
    }
   ],
   "source": [
    "prob_nondef=banker.mean()*100\n",
    "prob_nondef\n"
   ]
  },
  {
   "cell_type": "markdown",
   "id": "5e5a0d0b-51d6-497c-85db-4533ea003a2c",
   "metadata": {},
   "source": [
    "so it menas that picking person form 1000 has 0.2 % probability that he or she is banker "
   ]
  },
  {
   "cell_type": "markdown",
   "id": "a8a5c7c4-fadd-4a1e-84ba-cd7dab07b076",
   "metadata": {},
   "source": [
    "### 1.4 The Probability function "
   ]
  },
  {
   "cell_type": "code",
   "execution_count": 10,
   "id": "bd368243-cd5e-40cd-962f-663a145fc25b",
   "metadata": {},
   "outputs": [],
   "source": [
    "def prob(A):\n",
    "    \"\"\" Computes the probability of a proposition \"\"\"\n",
    "    return A.mean()"
   ]
  },
  {
   "cell_type": "markdown",
   "id": "16816dba-f8b6-40f8-8b51-51ced28b71a0",
   "metadata": {},
   "source": [
    "Just COnverting banker.mean() -> in function"
   ]
  },
  {
   "cell_type": "code",
   "execution_count": 11,
   "id": "cdc8e980-6127-4b52-bf0e-782195e55a43",
   "metadata": {},
   "outputs": [
    {
     "data": {
      "text/plain": [
       "np.float64(0.002)"
      ]
     },
     "execution_count": 11,
     "metadata": {},
     "output_type": "execute_result"
    }
   ],
   "source": [
    "prob(banker)"
   ]
  },
  {
   "cell_type": "markdown",
   "id": "e4cd6d86-5c55-4fee-b77c-d5bac7956c6c",
   "metadata": {},
   "source": [
    "##### now lets look toward the gender column"
   ]
  },
  {
   "cell_type": "code",
   "execution_count": 12,
   "id": "29de4307-8533-478b-956c-f7846ffbd5b9",
   "metadata": {},
   "outputs": [
    {
     "data": {
      "text/plain": [
       "0    False\n",
       "1     True\n",
       "2    False\n",
       "3     True\n",
       "4     True\n",
       "Name: sex, dtype: bool"
      ]
     },
     "execution_count": 12,
     "metadata": {},
     "output_type": "execute_result"
    }
   ],
   "source": [
    "female=(gss['sex']==2)\n",
    "female.head()"
   ]
  },
  {
   "cell_type": "markdown",
   "id": "2c8f6f90-4da9-4fa3-951a-fbee18cdbe5f",
   "metadata": {},
   "source": [
    "Male=1\n",
    "female=2"
   ]
  },
  {
   "cell_type": "code",
   "execution_count": 13,
   "id": "ba437984-fa99-472e-ad3f-f852869322ba",
   "metadata": {},
   "outputs": [
    {
     "data": {
      "text/plain": [
       "np.float64(0.503)"
      ]
     },
     "execution_count": 13,
     "metadata": {},
     "output_type": "execute_result"
    }
   ],
   "source": [
    "prob(female)"
   ]
  },
  {
   "cell_type": "code",
   "execution_count": 14,
   "id": "e619dade-f204-4de5-abf0-6fbe63bb4d77",
   "metadata": {},
   "outputs": [
    {
     "data": {
      "text/plain": [
       "np.float64(50.3)"
      ]
     },
     "execution_count": 14,
     "metadata": {},
     "output_type": "execute_result"
    }
   ],
   "source": [
    "prob(female)*100"
   ]
  },
  {
   "cell_type": "markdown",
   "id": "0ba8fc77-390d-4e6e-8ccb-cd07875f2e84",
   "metadata": {},
   "source": [
    "it means that 50% of respondant are Female"
   ]
  },
  {
   "cell_type": "markdown",
   "id": "6ce84e1d-b958-4f28-8720-bd94e2aec6df",
   "metadata": {},
   "source": [
    "The fraction of women in this dataset is higher than in the adult U.S. population because \n",
    "the\n",
    " GSS does not include people living in institutions like prisons and military housing, and those\n",
    " populations are more likely to be male."
   ]
  },
  {
   "cell_type": "markdown",
   "id": "71231848-2fcb-4ad0-95fa-e4c3f889270f",
   "metadata": {},
   "source": [
    "### 1.5 Political Views and Parties"
   ]
  },
  {
   "cell_type": "markdown",
   "id": "62d2f044-8e86-4d8b-88f1-dccfa321bf41",
   "metadata": {},
   "source": [
    "The other variables we’ll consider are \n",
    "respondents, and \n",
    "polviews \n",
    ", which describes the political views of the\n",
    " partyid \n",
    ", which describes their affiliation with a political party"
   ]
  },
  {
   "cell_type": "markdown",
   "id": "01e27649-7a5a-4d7f-a014-084199c0e2af",
   "metadata": {},
   "source": [
    " The values of polviews are on a seven-point scale"
   ]
  },
  {
   "cell_type": "markdown",
   "id": "0cad47ff-f134-4f95-ab34-0c3e9b4767e7",
   "metadata": {},
   "source": [
    "1. Extremely liberal\n",
    "2. liberal\n",
    "3. slightly liberal\n",
    "4. moderate\n",
    "5. slightly conservative\n",
    "6. conservative\n",
    "7. Extremely conservative"
   ]
  },
  {
   "cell_type": "markdown",
   "id": "18807ec8-8d06-4b77-adbc-7dda9742777d",
   "metadata": {},
   "source": [
    "1. people <=3 -> they are liberal.\n",
    "2. people >=4 -> they are conservative.\n",
    "\n",
    "lets calculate their individual probability"
   ]
  },
  {
   "cell_type": "code",
   "execution_count": 15,
   "id": "5945cc38-67a8-4909-bc6a-86830f38f456",
   "metadata": {},
   "outputs": [],
   "source": [
    "liberal=(gss['polviews']<=3)\n",
    "conservative=(gss['polviews']>=4)"
   ]
  },
  {
   "cell_type": "code",
   "execution_count": 16,
   "id": "289c716b-5a1e-4fff-bd43-f33023dfdd9e",
   "metadata": {},
   "outputs": [
    {
     "name": "stdout",
     "output_type": "stream",
     "text": [
      "0.406\n",
      "0.594\n"
     ]
    }
   ],
   "source": [
    "print(prob(liberal))\n",
    "print(prob(conservative))"
   ]
  },
  {
   "cell_type": "markdown",
   "id": "965dd57f-21b0-4875-8f85-2e8fccbd4c08",
   "metadata": {},
   "source": [
    " 40% -> people are liberal"
   ]
  },
  {
   "cell_type": "markdown",
   "id": "45bf4dd3-5dd4-499d-8619-c130ce40199c",
   "metadata": {},
   "source": [
    "50% -> people are conservative"
   ]
  },
  {
   "cell_type": "markdown",
   "id": "375c6c87-cb25-404d-8508-c93a9a462e74",
   "metadata": {},
   "source": [
    "The values partyid are encoded like this:"
   ]
  },
  {
   "cell_type": "markdown",
   "id": "3899fa55-37ec-4ed5-98e9-6c2d631f2e75",
   "metadata": {},
   "source": [
    " 0.      Strong democrat\n",
    " 1.     Not strong democrat\n",
    " 2.     Independent, near democrat\n",
    " 3.     Independent\n",
    " 4.     Independent, near republican\n",
    " 5.     Not strong republican\n",
    " 6.     Strong republican\n",
    " 7.     other party"
   ]
  },
  {
   "cell_type": "code",
   "execution_count": 17,
   "id": "61a8f24b-319e-4172-95e1-e56991006a25",
   "metadata": {},
   "outputs": [
    {
     "data": {
      "text/plain": [
       "0      False\n",
       "1      False\n",
       "2       True\n",
       "3      False\n",
       "4      False\n",
       "       ...  \n",
       "995    False\n",
       "996    False\n",
       "997     True\n",
       "998    False\n",
       "999    False\n",
       "Name: partyid, Length: 1000, dtype: bool"
      ]
     },
     "execution_count": 17,
     "metadata": {},
     "output_type": "execute_result"
    }
   ],
   "source": [
    " democrat=(gss['partyid']<=1)\n",
    "democrat"
   ]
  },
  {
   "cell_type": "code",
   "execution_count": 18,
   "id": "783908a2-15ae-4a41-a109-1c760b4a81cd",
   "metadata": {},
   "outputs": [
    {
     "data": {
      "text/plain": [
       "np.float64(0.269)"
      ]
     },
     "execution_count": 18,
     "metadata": {},
     "output_type": "execute_result"
    }
   ],
   "source": [
    "prob(democrat)"
   ]
  },
  {
   "cell_type": "markdown",
   "id": "4454a665-e91e-493e-beee-e680cb1bb3e7",
   "metadata": {},
   "source": [
    "Fraction representating who are democrat"
   ]
  },
  {
   "cell_type": "markdown",
   "id": "3d9e3561-d1fe-4ddd-a2f5-09feffe408fa",
   "metadata": {},
   "source": [
    "### 1.6 Conjunction"
   ]
  },
  {
   "cell_type": "markdown",
   "id": "1c3a84be-6158-4b6a-bc30-abae36432325",
   "metadata": {},
   "source": [
    "“Conjunction” is another name for the logical and operation. If you have two propositions, A and B , the conjunction A and B is Trueif both A and Bare True , and False otherwise."
   ]
  },
  {
   "cell_type": "code",
   "execution_count": 19,
   "id": "fe6cd644-a954-4e95-98cb-24d4acb26e31",
   "metadata": {},
   "outputs": [
    {
     "data": {
      "text/plain": [
       "np.float64(0.0)"
      ]
     },
     "execution_count": 19,
     "metadata": {},
     "output_type": "execute_result"
    }
   ],
   "source": [
    "prob(banker & democrat)"
   ]
  },
  {
   "cell_type": "code",
   "execution_count": 20,
   "id": "3cc40df9-c503-4232-8950-99a9f8214647",
   "metadata": {},
   "outputs": [
    {
     "data": {
      "text/plain": [
       "np.float64(0.0)"
      ]
     },
     "execution_count": 20,
     "metadata": {},
     "output_type": "execute_result"
    }
   ],
   "source": [
    "prob(democrat & banker)"
   ]
  },
  {
   "cell_type": "markdown",
   "id": "ebf58146-2e85-4576-9048-f3c632cebe09",
   "metadata": {},
   "source": [
    "A&B=B&A -> Commutative"
   ]
  },
  {
   "cell_type": "markdown",
   "id": "5a975bfe-3ab8-4fe7-97a6-65cb5c82db90",
   "metadata": {},
   "source": [
    "As we should expect prob(democrat & banker) is less than prob(banker), because not all bankers are democrats"
   ]
  },
  {
   "cell_type": "markdown",
   "id": "88d456fc-e896-4340-9543-8780f148a714",
   "metadata": {},
   "source": [
    "### 1.7 Conditional Probability"
   ]
  },
  {
   "cell_type": "markdown",
   "id": "90dac7cb-7ee8-45a9-855b-1580a646cc69",
   "metadata": {},
   "source": [
    " Conditional probability is a probability that depends on a condition, but that might not be the\n",
    " most helpful definition. Here are some examples:"
   ]
  },
  {
   "cell_type": "markdown",
   "id": "c8523bf1-b656-4e22-9da9-2051c21bbf84",
   "metadata": {},
   "source": [
    "~  What is the probability that a respondent is a Democrat, given that they are liberal?"
   ]
  },
  {
   "cell_type": "markdown",
   "id": "4b8814b5-1b17-4516-8778-747c201a48e1",
   "metadata": {},
   "source": [
    "So we had democrat and selecting liberal fom democrat is the answer"
   ]
  },
  {
   "cell_type": "code",
   "execution_count": 22,
   "id": "1844e63b-d655-4d53-b18d-4b0f8fdd6d8a",
   "metadata": {},
   "outputs": [
    {
     "data": {
      "text/plain": [
       "np.float64(0.29310344827586204)"
      ]
     },
     "execution_count": 22,
     "metadata": {},
     "output_type": "execute_result"
    }
   ],
   "source": [
    "selected=democrat[liberal]\n",
    "prob(selected)"
   ]
  },
  {
   "cell_type": "markdown",
   "id": "fc79fe43-be5d-4c28-bdb6-985ec651d045",
   "metadata": {},
   "source": [
    "29% of people from democrat are liberal "
   ]
  },
  {
   "cell_type": "markdown",
   "id": "2cc028d3-42d8-4e88-ae8b-4b862a028886",
   "metadata": {},
   "source": [
    "~What is the probability that a respondent is female, given that they are a banker?"
   ]
  },
  {
   "cell_type": "code",
   "execution_count": null,
   "id": "bb26ad8d-ce1a-46b8-a562-f793c84411c5",
   "metadata": {},
   "outputs": [],
   "source": []
  }
 ],
 "metadata": {
  "kernelspec": {
   "display_name": "Python 3 (ipykernel)",
   "language": "python",
   "name": "python3"
  },
  "language_info": {
   "codemirror_mode": {
    "name": "ipython",
    "version": 3
   },
   "file_extension": ".py",
   "mimetype": "text/x-python",
   "name": "python",
   "nbconvert_exporter": "python",
   "pygments_lexer": "ipython3",
   "version": "3.12.5"
  }
 },
 "nbformat": 4,
 "nbformat_minor": 5
}
