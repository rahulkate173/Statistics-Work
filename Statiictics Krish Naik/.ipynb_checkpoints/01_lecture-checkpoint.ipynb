{
 "cells": [
  {
   "cell_type": "code",
   "execution_count": 1,
   "id": "d1ba82e8-faa4-447f-977c-0d4e15680630",
   "metadata": {},
   "outputs": [],
   "source": [
    "import numpy as np\n",
    "import seaborn as sns\n",
    "import matplotlib.pyplot as plt"
   ]
  },
  {
   "cell_type": "markdown",
   "id": "e14012e2-5f51-4b45-9c94-ac21b626966f",
   "metadata": {},
   "source": [
    "## define Dataset"
   ]
  },
  {
   "cell_type": "code",
   "execution_count": 2,
   "id": "040406bc-119c-431f-a47d-b6404ee0d50b",
   "metadata": {},
   "outputs": [],
   "source": [
    "dataset=[11,10,12,14,12,15,14,13,15,102,12,14,17,19,107,10,13,12,14,108,12,11,14,13,15,10,15,12,10,14,13,15,10]"
   ]
  },
  {
   "cell_type": "markdown",
   "id": "7600e9da-fe50-44e2-92a3-da5c012f7a9c",
   "metadata": {},
   "source": [
    "## Define Outlier Function"
   ]
  },
  {
   "cell_type": "markdown",
   "id": "09e8c92d-56f4-4f18-a083-e4b9d144ed45",
   "metadata": {},
   "source": [
    "### Z Score"
   ]
  },
  {
   "cell_type": "code",
   "execution_count": 5,
   "id": "77eb396a-4173-4e49-aaf9-6384444047ad",
   "metadata": {},
   "outputs": [
    {
     "data": {
      "text/plain": [
       "[102, 107, 108]"
      ]
     },
     "execution_count": 5,
     "metadata": {},
     "output_type": "execute_result"
    }
   ],
   "source": [
    "outliers=[]\n",
    "def detect_outlier(dataset):\n",
    "    threshold=3  # third standard deviation\n",
    "    mean=np.mean(dataset)\n",
    "    std=np.std(dataset)\n",
    "    for i in dataset:\n",
    "        z_score=(i-mean)/std\n",
    "        if(np.absolute(z_score)>threshold):\n",
    "            outliers.append(i)  # append the value at that time\n",
    "    return outliers\n",
    "\n",
    "detect_outlier(dataset)"
   ]
  },
  {
   "cell_type": "markdown",
   "id": "961c8731-a777-4508-b272-92c819f32c65",
   "metadata": {},
   "source": [
    "##### Outlier is calculated with the help of Z score\n",
    "1. z score is used to calculate the std and the value greater than third std in both side are outlier because after or at that point 99.8 % of data is covered"
   ]
  },
  {
   "cell_type": "markdown",
   "id": "cc0b3172-8254-4b42-a57a-31acd601c198",
   "metadata": {},
   "source": [
    "### IQR"
   ]
  },
  {
   "cell_type": "code",
   "execution_count": 9,
   "id": "4f04a9e9-cc6f-4252-b485-654b4d756adf",
   "metadata": {},
   "outputs": [
    {
     "data": {
      "text/plain": [
       "np.float64(3.0)"
      ]
     },
     "execution_count": 9,
     "metadata": {},
     "output_type": "execute_result"
    }
   ],
   "source": [
    "# IQR=Q1-Q3\n",
    "Q1=np.percentile(dataset,(25))\n",
    "Q3=np.percentile(dataset,(75))\n",
    "IQR=Q3-Q1\n",
    "IQR"
   ]
  },
  {
   "cell_type": "code",
   "execution_count": 10,
   "id": "eb254660-90b9-4451-803d-47556ff74e47",
   "metadata": {},
   "outputs": [],
   "source": [
    "lower_fence=Q1-(1.5*IQR)\n",
    "higher_fence=Q3+(1.5*IQR)\n",
    "data_nonoutlier=[]\n",
    "for i in dataset:\n",
    "    if(i>lower_fence and i<higher_fence):\n",
    "        data_nonoutlier.append(i)"
   ]
  },
  {
   "cell_type": "code",
   "execution_count": 11,
   "id": "74bcf345-7a11-4746-b096-4977caec9605",
   "metadata": {
    "scrolled": true
   },
   "outputs": [
    {
     "data": {
      "text/plain": [
       "[11,\n",
       " 10,\n",
       " 12,\n",
       " 14,\n",
       " 12,\n",
       " 15,\n",
       " 14,\n",
       " 13,\n",
       " 15,\n",
       " 12,\n",
       " 14,\n",
       " 17,\n",
       " 19,\n",
       " 10,\n",
       " 13,\n",
       " 12,\n",
       " 14,\n",
       " 12,\n",
       " 11,\n",
       " 14,\n",
       " 13,\n",
       " 15,\n",
       " 10,\n",
       " 15,\n",
       " 12,\n",
       " 10,\n",
       " 14,\n",
       " 13,\n",
       " 15,\n",
       " 10]"
      ]
     },
     "execution_count": 11,
     "metadata": {},
     "output_type": "execute_result"
    }
   ],
   "source": [
    "data_nonoutlier"
   ]
  },
  {
   "cell_type": "code",
   "execution_count": 14,
   "id": "645a2d04-6194-4b48-8c0b-3991ab3089b3",
   "metadata": {},
   "outputs": [],
   "source": [
    "# defining code in function\n",
    "def remove_outlier(data):\n",
    "    Q1=np.percentile(data,(25))\n",
    "    Q3=np.percentile(data,(75))\n",
    "    IQR=Q3-Q1\n",
    "    lower_fence=Q1-(1.5*IQR)\n",
    "    higher_fence=Q3+(1.5*IQR)\n",
    "    data_nonoutlier=[]\n",
    "    for i in dataset:\n",
    "        if(i>lower_fence and i<higher_fence):\n",
    "            data_nonoutlier.append(i)\n",
    "    return data_nonoutlier\n"
   ]
  },
  {
   "cell_type": "code",
   "execution_count": 15,
   "id": "b253289b-0272-41f1-b821-bfefd6a805cf",
   "metadata": {
    "collapsed": true,
    "jupyter": {
     "outputs_hidden": true
    },
    "scrolled": true
   },
   "outputs": [
    {
     "data": {
      "text/plain": [
       "[11,\n",
       " 10,\n",
       " 12,\n",
       " 14,\n",
       " 12,\n",
       " 15,\n",
       " 14,\n",
       " 13,\n",
       " 15,\n",
       " 12,\n",
       " 14,\n",
       " 17,\n",
       " 19,\n",
       " 10,\n",
       " 13,\n",
       " 12,\n",
       " 14,\n",
       " 12,\n",
       " 11,\n",
       " 14,\n",
       " 13,\n",
       " 15,\n",
       " 10,\n",
       " 15,\n",
       " 12,\n",
       " 10,\n",
       " 14,\n",
       " 13,\n",
       " 15,\n",
       " 10]"
      ]
     },
     "execution_count": 15,
     "metadata": {},
     "output_type": "execute_result"
    }
   ],
   "source": [
    "remove_outlier(dataset)"
   ]
  },
  {
   "cell_type": "markdown",
   "id": "ecc23fa3-5c60-4474-bf62-49f51958f55a",
   "metadata": {},
   "source": [
    " Identifying an outiler with the help of boxplot"
   ]
  },
  {
   "cell_type": "code",
   "execution_count": 18,
   "id": "719f822d-a6ac-4f63-9944-50b434603ecc",
   "metadata": {},
   "outputs": [
    {
     "data": {
      "text/plain": [
       "<Axes: >"
      ]
     },
     "execution_count": 18,
     "metadata": {},
     "output_type": "execute_result"
    },
    {
     "data": {
      "image/png": "[encoded data removed]",
      "text/plain": [
       "<Figure size 640x480 with 1 Axes>"
      ]
     },
     "metadata": {},
     "output_type": "display_data"
    }
   ],
   "source": [
    "sns.boxplot(dataset,color='black')"
   ]
  },
  {
   "cell_type": "code",
   "execution_count": 19,
   "id": "0c1609ca-2195-4604-9bbb-76498005e92b",
   "metadata": {},
   "outputs": [
    {
     "data": {
      "text/plain": [
       "<Axes: >"
      ]
     },
     "execution_count": 19,
     "metadata": {},
     "output_type": "execute_result"
    },
    {
     "data": {
      "image/png": "[encoded data removed]",
      "text/plain": [
       "<Figure size 640x480 with 1 Axes>"
      ]
     },
     "metadata": {},
     "output_type": "display_data"
    }
   ],
   "source": [
    "sns.boxplot(data_nonoutlier)"
   ]
  },
  {
   "cell_type": "code",
   "execution_count": 20,
   "id": "06d2ade3-4bf5-4ef2-a21b-145ac6d7e14e",
   "metadata": {},
   "outputs": [
    {
     "data": {
      "text/plain": [
       "np.float64(7.5)"
      ]
     },
     "execution_count": 20,
     "metadata": {},
     "output_type": "execute_result"
    }
   ],
   "source": [
    "lower_fence"
   ]
  },
  {
   "cell_type": "code",
   "execution_count": 21,
   "id": "c978928a-7646-48a9-97d3-b39d5505c329",
   "metadata": {},
   "outputs": [
    {
     "data": {
      "text/plain": [
       "np.float64(19.5)"
      ]
     },
     "execution_count": 21,
     "metadata": {},
     "output_type": "execute_result"
    }
   ],
   "source": [
    "higher_fence"
   ]
  },
  {
   "cell_type": "code",
   "execution_count": null,
   "id": "9bea2e74-c95f-41ec-af31-062364f44f51",
   "metadata": {},
   "outputs": [],
   "source": []
  }
 ],
 "metadata": {
  "kernelspec": {
   "display_name": "Python 3 (ipykernel)",
   "language": "python",
   "name": "python3"
  },
  "language_info": {
   "codemirror_mode": {
    "name": "ipython",
    "version": 3
   },
   "file_extension": ".py",
   "mimetype": "text/x-python",
   "name": "python",
   "nbconvert_exporter": "python",
   "pygments_lexer": "ipython3",
   "version": "3.12.5"
  }
 },
 "nbformat": 4,
 "nbformat_minor": 5
}
